{
 "cells": [
  {
   "cell_type": "code",
   "execution_count": 18,
   "metadata": {},
   "outputs": [],
   "source": [
    "import pandas as pd"
   ]
  },
  {
   "cell_type": "code",
   "execution_count": 4,
   "metadata": {},
   "outputs": [],
   "source": []
  },
  {
   "cell_type": "code",
   "execution_count": 2,
   "metadata": {},
   "outputs": [],
   "source": [
    "#get data types from a sample to import the whole dataset properly\n",
    "#data_sample = pd.read_csv(\"data/o_file_inproceedings.csv\", sep=';', nrows=100)\n",
    "#print(data_sample.dtypes)"
   ]
  },
  {
   "cell_type": "code",
   "execution_count": 19,
   "metadata": {},
   "outputs": [],
   "source": [
    "dtype_dict = {\n",
    "    'id': 'int64',\n",
    "    'author': 'string',\n",
    "    'author-aux': 'string',\n",
    "    'author-orcid': 'string',\n",
    "    'booktitle': 'string',\n",
    "    'cdate': 'string',\n",
    "    'cdrom': 'string',\n",
    "    'cite': 'string',\n",
    "    'cite-label': 'string',\n",
    "    'crossref': 'string',\n",
    "    'editor': 'string',\n",
    "    'editor-orcid': 'string',\n",
    "    'ee': 'string',\n",
    "    'ee-type': 'string',\n",
    "    'i': 'string',\n",
    "    'journal': 'string',\n",
    "    'key': 'string',\n",
    "    'mdate': 'string',\n",
    "    'month': 'string',\n",
    "    'note': 'string',\n",
    "    'note-type': 'string',\n",
    "    'number': 'string',\n",
    "    'pages': 'string',\n",
    "    'publisher': 'string',\n",
    "    'publnr': 'string',\n",
    "    'publtype': 'string',\n",
    "    'stream': 'string',\n",
    "    'sub': 'string',\n",
    "    'sup': 'string',\n",
    "    'title': 'string',\n",
    "    'title-bibtex': 'string',\n",
    "    'tt': 'string',\n",
    "    'url': 'string',\n",
    "    'volume': 'string',\n",
    "    'year': 'string'\n",
    "}"
   ]
  },
  {
   "cell_type": "code",
   "execution_count": 20,
   "metadata": {},
   "outputs": [],
   "source": [
    "# Read the CSV file\n",
    "data = pd.read_csv(\n",
    "    \"data/o_file_inproceedings.csv\",\n",
    "    sep=';',          # Specify the delimiter\n",
    "    dtype=dtype_dict\n",
    ")"
   ]
  },
  {
   "cell_type": "code",
   "execution_count": 21,
   "metadata": {},
   "outputs": [],
   "source": [
    "# List of columns to delete\n",
    "columns_to_delete = ['author-aux','author-orcid','booktitle','cdrom','cite','cite-label','crossref','editor','editor-orcid',\n",
    "'ee-type','i','month','number','title-bibtex','tt','volume','note','stream','sub','sup']"
   ]
  },
  {
   "cell_type": "code",
   "execution_count": 22,
   "metadata": {},
   "outputs": [],
   "source": [
    "# Drop the specified columns\n",
    "data.drop(columns=columns_to_delete, inplace=True)"
   ]
  },
  {
   "cell_type": "code",
   "execution_count": 23,
   "metadata": {},
   "outputs": [
    {
     "data": {
      "text/plain": [
       "Index(['id', 'author', 'ee', 'key', 'mdate', 'note-type', 'pages', 'publtype',\n",
       "       'title', 'url', 'year'],\n",
       "      dtype='object')"
      ]
     },
     "execution_count": 23,
     "metadata": {},
     "output_type": "execute_result"
    }
   ],
   "source": [
    "data.columns"
   ]
  },
  {
   "cell_type": "code",
   "execution_count": 24,
   "metadata": {},
   "outputs": [],
   "source": [
    "data.rename(columns={'ee': 'external_link'}, inplace=True)"
   ]
  },
  {
   "cell_type": "code",
   "execution_count": 25,
   "metadata": {},
   "outputs": [],
   "source": [
    "data.rename(columns={'author': 'authors'}, inplace=True)"
   ]
  },
  {
   "cell_type": "code",
   "execution_count": 26,
   "metadata": {},
   "outputs": [
    {
     "data": {
      "text/plain": [
       "Index(['id', 'authors', 'external_link', 'key', 'mdate', 'note-type', 'pages',\n",
       "       'publtype', 'title', 'url', 'year'],\n",
       "      dtype='object')"
      ]
     },
     "execution_count": 26,
     "metadata": {},
     "output_type": "execute_result"
    }
   ],
   "source": [
    "data.columns"
   ]
  },
  {
   "cell_type": "code",
   "execution_count": 27,
   "metadata": {},
   "outputs": [],
   "source": [
    "# Split the authors into a list\n",
    "data['author_list'] = data['authors'].str.split('|')\n",
    "# Explode the list into multiple rows\n",
    "data_long = data.explode('author_list', ignore_index=True)\n",
    "# Rename the column for clarity\n",
    "data_long.rename(columns={'author_list': 'author'}, inplace=True)"
   ]
  },
  {
   "cell_type": "code",
   "execution_count": 28,
   "metadata": {},
   "outputs": [],
   "source": [
    "# Remove digits from the 'author' column using a regular expression\n",
    "data_long['author'] = data_long['author'].str.replace(r'\\d+', '', regex=True).str.strip()"
   ]
  },
  {
   "cell_type": "code",
   "execution_count": 29,
   "metadata": {},
   "outputs": [],
   "source": [
    "data_long.drop_duplicates(inplace=True) #Remove duplications"
   ]
  },
  {
   "cell_type": "code",
   "execution_count": 14,
   "metadata": {},
   "outputs": [
    {
     "name": "stdout",
     "output_type": "stream",
     "text": [
      "Number of rows: 12252601\n"
     ]
    }
   ],
   "source": [
    "row_count = data_long.shape[0]\n",
    "print(f\"Number of rows: {row_count}\")"
   ]
  },
  {
   "cell_type": "code",
   "execution_count": 16,
   "metadata": {},
   "outputs": [],
   "source": [
    "# Display the first 10 rows\n",
    "#print(data_long.head(10))"
   ]
  },
  {
   "cell_type": "code",
   "execution_count": 27,
   "metadata": {},
   "outputs": [],
   "source": [
    "#data_long.to_csv(\"cleaned_inproceedings.csv\", index=False)"
   ]
  },
  {
   "cell_type": "code",
   "execution_count": 37,
   "metadata": {},
   "outputs": [
    {
     "data": {
      "text/plain": [
       "id                        int64\n",
       "authors          string[python]\n",
       "external_link    string[python]\n",
       "key              string[python]\n",
       "mdate            string[python]\n",
       "note-type        string[python]\n",
       "pages            string[python]\n",
       "publtype         string[python]\n",
       "title            string[python]\n",
       "url              string[python]\n",
       "year             string[python]\n",
       "author                   object\n",
       "dtype: object"
      ]
     },
     "execution_count": 37,
     "metadata": {},
     "output_type": "execute_result"
    }
   ],
   "source": [
    "data_long.dtypes"
   ]
  },
  {
   "cell_type": "code",
   "execution_count": 34,
   "metadata": {},
   "outputs": [],
   "source": [
    "#delete column to fix bug with text and type inconsistency\n",
    "data_short = data_long.drop(columns=['note-type'])"
   ]
  },
  {
   "cell_type": "code",
   "execution_count": 40,
   "metadata": {},
   "outputs": [],
   "source": [
    "#delete column to fix bug with text and type inconsistency\n",
    "data_short = data_short.drop(columns=['note-type'])"
   ]
  },
  {
   "cell_type": "code",
   "execution_count": null,
   "metadata": {},
   "outputs": [],
   "source": [
    "data_short.dtypes"
   ]
  },
  {
   "cell_type": "code",
   "execution_count": 42,
   "metadata": {},
   "outputs": [],
   "source": [
    "data_short.to_csv(\"inproceedings_list.csv\", index=False)"
   ]
  },
  {
   "cell_type": "code",
   "execution_count": null,
   "metadata": {},
   "outputs": [],
   "source": []
  }
 ],
 "metadata": {
  "kernelspec": {
   "display_name": "Python 3",
   "language": "python",
   "name": "python3"
  },
  "language_info": {
   "codemirror_mode": {
    "name": "ipython",
    "version": 3
   },
   "file_extension": ".py",
   "mimetype": "text/x-python",
   "name": "python",
   "nbconvert_exporter": "python",
   "pygments_lexer": "ipython3",
   "version": "3.8.5"
  }
 },
 "nbformat": 4,
 "nbformat_minor": 4
}
