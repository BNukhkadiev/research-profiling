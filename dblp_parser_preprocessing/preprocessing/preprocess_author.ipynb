{
 "cells": [
  {
   "cell_type": "code",
   "execution_count": 43,
   "metadata": {},
   "outputs": [],
   "source": [
    "import pandas as pd"
   ]
  },
  {
   "cell_type": "code",
   "execution_count": 44,
   "metadata": {},
   "outputs": [],
   "source": [
    "# Load the CSV file\n",
    "#data = pd.read_csv(\"data/o_file_author.csv\", sep=';')"
   ]
  },
  {
   "cell_type": "code",
   "execution_count": 45,
   "metadata": {},
   "outputs": [
    {
     "name": "stdout",
     "output_type": "stream",
     "text": [
      "<class 'pandas.core.frame.DataFrame'>\n",
      "RangeIndex: 3787798 entries, 0 to 3787797\n",
      "Data columns (total 2 columns):\n",
      " #   Column         Dtype \n",
      "---  ------         ----- \n",
      " 0   :ID            int64 \n",
      " 1   author:string  object\n",
      "dtypes: int64(1), object(1)\n",
      "memory usage: 57.8+ MB\n",
      "None\n",
      "                :ID\n",
      "count  3.787798e+06\n",
      "mean   1.323168e+07\n",
      "std    1.093443e+06\n",
      "min    1.133778e+07\n",
      "25%    1.228473e+07\n",
      "50%    1.323168e+07\n",
      "75%    1.417863e+07\n",
      "max    1.512558e+07\n"
     ]
    }
   ],
   "source": [
    "print(data.info())\n",
    "print(data.describe())"
   ]
  },
  {
   "cell_type": "code",
   "execution_count": 46,
   "metadata": {},
   "outputs": [
    {
     "name": "stdout",
     "output_type": "stream",
     "text": [
      "        :ID           author:string\n",
      "0  11337779         Arnon Rosenthal\n",
      "1  11337780             Robin Cover\n",
      "2  11337781            Alin Deutsch\n",
      "3  11337782       Mary F. Fernandez\n",
      "4  11337783        Daniela Florescu\n",
      "5  11337784            Alon Y. Levy\n",
      "6  11337785               Dan Suciu\n",
      "7  11337786         Roy T. Fielding\n",
      "8  11337787  Henrik Frystyk Nielsen\n",
      "9  11337788         Tim Berners-Lee\n"
     ]
    }
   ],
   "source": [
    "# Display the first 10 rows\n",
    "print(data.head(10))"
   ]
  },
  {
   "cell_type": "code",
   "execution_count": 33,
   "metadata": {},
   "outputs": [
    {
     "name": "stdout",
     "output_type": "stream",
     "text": [
      "Index([':ID', 'author:string'], dtype='object')\n"
     ]
    }
   ],
   "source": [
    "# Get the list of columns\n",
    "column_names = data.columns\n",
    "# Display the column names\n",
    "print(data.columns)"
   ]
  },
  {
   "cell_type": "code",
   "execution_count": 34,
   "metadata": {},
   "outputs": [
    {
     "name": "stdout",
     "output_type": "stream",
     "text": [
      ":ID              0\n",
      "author:string    0\n",
      "dtype: int64\n"
     ]
    }
   ],
   "source": [
    "print(data.isnull().sum())"
   ]
  },
  {
   "cell_type": "code",
   "execution_count": 35,
   "metadata": {},
   "outputs": [],
   "source": [
    "data.dropna(axis=0, inplace=True)  # Drop rows\n",
    "# OR\n",
    "data.dropna(axis=1, inplace=True)  # Drop columns\n",
    "\n",
    "data.drop_duplicates(inplace=True) #Remove duplications\n"
   ]
  },
  {
   "cell_type": "code",
   "execution_count": 36,
   "metadata": {},
   "outputs": [],
   "source": [
    "data.rename(columns={':ID': 'ID'}, inplace=True)"
   ]
  },
  {
   "cell_type": "code",
   "execution_count": 37,
   "metadata": {},
   "outputs": [],
   "source": [
    "data.rename(columns={'author:string': 'author'}, inplace=True)"
   ]
  },
  {
   "cell_type": "code",
   "execution_count": 39,
   "metadata": {},
   "outputs": [
    {
     "name": "stdout",
     "output_type": "stream",
     "text": [
      "Index(['ID', 'author'], dtype='object')\n"
     ]
    }
   ],
   "source": [
    "# Get the list of columns\n",
    "column_names = data.columns\n",
    "# Display the column names\n",
    "print(data.columns)"
   ]
  },
  {
   "cell_type": "code",
   "execution_count": 40,
   "metadata": {},
   "outputs": [
    {
     "name": "stdout",
     "output_type": "stream",
     "text": [
      "         ID                  author\n",
      "0  11337779         Arnon Rosenthal\n",
      "1  11337780             Robin Cover\n",
      "2  11337781            Alin Deutsch\n",
      "3  11337782       Mary F. Fernandez\n",
      "4  11337783        Daniela Florescu\n",
      "5  11337784            Alon Y. Levy\n",
      "6  11337785               Dan Suciu\n",
      "7  11337786         Roy T. Fielding\n",
      "8  11337787  Henrik Frystyk Nielsen\n",
      "9  11337788         Tim Berners-Lee\n"
     ]
    }
   ],
   "source": [
    "# Display the first 10 rows\n",
    "print(data.head(10))"
   ]
  },
  {
   "cell_type": "code",
   "execution_count": 41,
   "metadata": {},
   "outputs": [],
   "source": [
    "# Remove digits from the 'author' column using a regular expression\n",
    "data['author'] = data['author'].str.replace(r'\\d+', '', regex=True).str.strip()"
   ]
  },
  {
   "cell_type": "code",
   "execution_count": null,
   "metadata": {},
   "outputs": [],
   "source": []
  },
  {
   "cell_type": "code",
   "execution_count": 42,
   "metadata": {},
   "outputs": [],
   "source": [
    "data.to_csv(\"authors_list.csv\", index=False)\n"
   ]
  }
 ],
 "metadata": {
  "kernelspec": {
   "display_name": "Python 3",
   "language": "python",
   "name": "python3"
  },
  "language_info": {
   "codemirror_mode": {
    "name": "ipython",
    "version": 3
   },
   "file_extension": ".py",
   "mimetype": "text/x-python",
   "name": "python",
   "nbconvert_exporter": "python",
   "pygments_lexer": "ipython3",
   "version": "3.8.5"
  }
 },
 "nbformat": 4,
 "nbformat_minor": 4
}
