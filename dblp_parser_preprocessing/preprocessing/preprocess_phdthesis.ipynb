{
 "cells": [
  {
   "cell_type": "code",
   "execution_count": 1,
   "metadata": {},
   "outputs": [],
   "source": [
    "import pandas as pd"
   ]
  },
  {
   "cell_type": "code",
   "execution_count": 4,
   "metadata": {},
   "outputs": [],
   "source": [
    "#get data types from a sample to import the whole dataset properly\n",
    "#data_sample = pd.read_csv(\"data/o_file_phdthesis.csv\", sep=';', nrows=100)\n",
    "#print(data_sample.dtypes)"
   ]
  },
  {
   "cell_type": "code",
   "execution_count": 35,
   "metadata": {},
   "outputs": [],
   "source": [
    "# Define the data types for each column\n",
    "dtype_dict = {\n",
    "    'id': 'int64',\n",
    "    'author': 'string',\n",
    "    'author-orcid': 'string',\n",
    "    'ee': 'string',\n",
    "    'ee-type': 'string',\n",
    "    'i': 'string',\n",
    "    'isbn': 'string',  # ISBNs can have non-numeric characters\n",
    "    'isbn-type': 'string',\n",
    "    'key': 'string',\n",
    "    'mdate': 'string',\n",
    "    'month': 'string',\n",
    "    'note': 'string',\n",
    "    'note-type': 'string',\n",
    "    'number': 'string', \n",
    "    'pages': 'string',\n",
    "    'publisher': 'string',\n",
    "    'publtype': 'string',\n",
    "    'school': 'string',\n",
    "    'series': 'string',\n",
    "    'series-href': 'string',\n",
    "    'sub': 'string',\n",
    "    'sup': 'string',\n",
    "    'title': 'string',\n",
    "    'url': 'string',\n",
    "    'volume': 'string',\n",
    "    'year': 'string'\n",
    "}"
   ]
  },
  {
   "cell_type": "code",
   "execution_count": 41,
   "metadata": {},
   "outputs": [],
   "source": [
    "# Read the CSV file\n",
    "data = pd.read_csv(\n",
    "    \"data/o_file_phdthesis.csv\",\n",
    "    sep=';',          # Specify the delimiter\n",
    "    dtype=dtype_dict\n",
    ")\n",
    "\n"
   ]
  },
  {
   "cell_type": "code",
   "execution_count": 42,
   "metadata": {},
   "outputs": [],
   "source": [
    "# List of columns to delete\n",
    "columns_to_delete = ['author-orcid','ee-type','i','isbn-type','month','note','note-type','number',\n",
    "'pages','publtype','series-href','sub','sup','volume']"
   ]
  },
  {
   "cell_type": "code",
   "execution_count": 43,
   "metadata": {},
   "outputs": [],
   "source": [
    "# Drop the specified columns\n",
    "data.drop(columns=columns_to_delete, inplace=True)"
   ]
  },
  {
   "cell_type": "code",
   "execution_count": 44,
   "metadata": {},
   "outputs": [
    {
     "data": {
      "text/plain": [
       "Index(['id', 'author', 'ee', 'isbn', 'key', 'mdate', 'publisher', 'school',\n",
       "       'series', 'title', 'year'],\n",
       "      dtype='object')"
      ]
     },
     "execution_count": 44,
     "metadata": {},
     "output_type": "execute_result"
    }
   ],
   "source": [
    "data.columns"
   ]
  },
  {
   "cell_type": "code",
   "execution_count": 45,
   "metadata": {},
   "outputs": [],
   "source": [
    "data.rename(columns={'ee': 'external_link'}, inplace=True)"
   ]
  },
  {
   "cell_type": "code",
   "execution_count": 46,
   "metadata": {},
   "outputs": [
    {
     "data": {
      "text/plain": [
       "Index(['id', 'author', 'external_link', 'isbn', 'key', 'mdate', 'publisher',\n",
       "       'school', 'series', 'title', 'year'],\n",
       "      dtype='object')"
      ]
     },
     "execution_count": 46,
     "metadata": {},
     "output_type": "execute_result"
    }
   ],
   "source": [
    "data.columns"
   ]
  },
  {
   "cell_type": "code",
   "execution_count": 47,
   "metadata": {},
   "outputs": [],
   "source": [
    "# Remove digits from the 'author' column using a regular expression\n",
    "data['author'] = data['author'].str.replace(r'\\d+', '', regex=True).str.strip()"
   ]
  },
  {
   "cell_type": "code",
   "execution_count": 48,
   "metadata": {},
   "outputs": [
    {
     "data": {
      "text/html": [
       "<div>\n",
       "<style scoped>\n",
       "    .dataframe tbody tr th:only-of-type {\n",
       "        vertical-align: middle;\n",
       "    }\n",
       "\n",
       "    .dataframe tbody tr th {\n",
       "        vertical-align: top;\n",
       "    }\n",
       "\n",
       "    .dataframe thead th {\n",
       "        text-align: right;\n",
       "    }\n",
       "</style>\n",
       "<table border=\"1\" class=\"dataframe\">\n",
       "  <thead>\n",
       "    <tr style=\"text-align: right;\">\n",
       "      <th></th>\n",
       "      <th>id</th>\n",
       "      <th>author</th>\n",
       "      <th>external_link</th>\n",
       "      <th>isbn</th>\n",
       "      <th>key</th>\n",
       "      <th>mdate</th>\n",
       "      <th>publisher</th>\n",
       "      <th>school</th>\n",
       "      <th>series</th>\n",
       "      <th>title</th>\n",
       "      <th>year</th>\n",
       "    </tr>\n",
       "  </thead>\n",
       "  <tbody>\n",
       "    <tr>\n",
       "      <th>0</th>\n",
       "      <td>32726</td>\n",
       "      <td>Annika Lenz</td>\n",
       "      <td>https://d-nb.info/1212528670|https://doi.org/1...</td>\n",
       "      <td>978-3-658-31174-2</td>\n",
       "      <td>books/sp/Lenz20</td>\n",
       "      <td>2021-07-17</td>\n",
       "      <td>Springer</td>\n",
       "      <td>University of Hohenheim, Stuttgart, Germany</td>\n",
       "      <td>&lt;NA&gt;</td>\n",
       "      <td>Dynamic Decision Support for Electronic Requir...</td>\n",
       "      <td>2020</td>\n",
       "    </tr>\n",
       "    <tr>\n",
       "      <th>1</th>\n",
       "      <td>36927</td>\n",
       "      <td>Vladislav Golyanik</td>\n",
       "      <td>https://d-nb.info/1209769611|https://doi.org/1...</td>\n",
       "      <td>978-3-658-30566-6</td>\n",
       "      <td>books/sp/Golyanik20</td>\n",
       "      <td>2021-07-17</td>\n",
       "      <td>Springer</td>\n",
       "      <td>Kaiserslautern University of Technology, Germany</td>\n",
       "      <td>&lt;NA&gt;</td>\n",
       "      <td>Robust Methods for Dense Monocular Non-Rigid 3...</td>\n",
       "      <td>2020</td>\n",
       "    </tr>\n",
       "    <tr>\n",
       "      <th>2</th>\n",
       "      <td>36941</td>\n",
       "      <td>Elisabeth Schmidt</td>\n",
       "      <td>https://d-nb.info/1195457022|https://doi.org/1...</td>\n",
       "      <td>978-3-658-28157-1</td>\n",
       "      <td>books/sp/Schmidt20</td>\n",
       "      <td>2021-07-17</td>\n",
       "      <td>Springer Vieweg</td>\n",
       "      <td>Chemnitz University of Technology, Germany</td>\n",
       "      <td>&lt;NA&gt;</td>\n",
       "      <td>Effects of Thermal Stimulation during Passive ...</td>\n",
       "      <td>2020</td>\n",
       "    </tr>\n",
       "    <tr>\n",
       "      <th>3</th>\n",
       "      <td>38654</td>\n",
       "      <td>Bernhard Mitschang</td>\n",
       "      <td>https://d-nb.info/881158941|https://doi.org/10...</td>\n",
       "      <td>3-540-50346-3</td>\n",
       "      <td>books/sp/Mitschang88</td>\n",
       "      <td>2021-07-17</td>\n",
       "      <td>Springer</td>\n",
       "      <td>Kaiserslautern University of Technology, Germany</td>\n",
       "      <td>Informatik-Fachberichte</td>\n",
       "      <td>Ein Molekül-Atom-Datenmodell für Non-Standard-...</td>\n",
       "      <td>1988</td>\n",
       "    </tr>\n",
       "    <tr>\n",
       "      <th>4</th>\n",
       "      <td>43377</td>\n",
       "      <td>Andreas Pfitzmann</td>\n",
       "      <td>https://d-nb.info/900199849|https://doi.org/10...</td>\n",
       "      <td>3-540-52327-8</td>\n",
       "      <td>books/sp/Pfitzmann90</td>\n",
       "      <td>2024-03-15</td>\n",
       "      <td>Springer</td>\n",
       "      <td>Karlsruhe Institute of Technology, Germany</td>\n",
       "      <td>Informatik-Fachberichte</td>\n",
       "      <td>Diensteintegrierende Kommunikationsnetze mit t...</td>\n",
       "      <td>1990</td>\n",
       "    </tr>\n",
       "    <tr>\n",
       "      <th>5</th>\n",
       "      <td>43477</td>\n",
       "      <td>Wolf Zimmermann</td>\n",
       "      <td>https://d-nb.info/901488844|https://doi.org/10...</td>\n",
       "      <td>3-540-53430-X</td>\n",
       "      <td>books/sp/Zimmermann90</td>\n",
       "      <td>2024-04-15</td>\n",
       "      <td>Springer</td>\n",
       "      <td>Karlsruhe Institute of Technology, Germany</td>\n",
       "      <td>Informatik-Fachberichte</td>\n",
       "      <td>Automatische Komplexitätsanalyse funktionaler ...</td>\n",
       "      <td>1990</td>\n",
       "    </tr>\n",
       "    <tr>\n",
       "      <th>6</th>\n",
       "      <td>46702</td>\n",
       "      <td>Mohammed Rajab</td>\n",
       "      <td>https://d-nb.info/1201240719|https://doi.org/1...</td>\n",
       "      <td>978-3-658-28981-2</td>\n",
       "      <td>books/sp/Rajab20</td>\n",
       "      <td>2021-07-17</td>\n",
       "      <td>Springer</td>\n",
       "      <td>University of Ulm, Germany</td>\n",
       "      <td>&lt;NA&gt;</td>\n",
       "      <td>Channel and Source Coding for Non-Volatile Fla...</td>\n",
       "      <td>2020</td>\n",
       "    </tr>\n",
       "    <tr>\n",
       "      <th>7</th>\n",
       "      <td>52504</td>\n",
       "      <td>Reinhard Prechtel</td>\n",
       "      <td>https://d-nb.info/930375920</td>\n",
       "      <td>3-929037-28-9</td>\n",
       "      <td>books/infix/Prechtel93</td>\n",
       "      <td>2021-07-17</td>\n",
       "      <td>Infix Verlag, St. Augustin, Germany</td>\n",
       "      <td>University of Erlangen-Nuremberg, Germany</td>\n",
       "      <td>DISKI</td>\n",
       "      <td>Erklärungen für komplexe Wissensbasen.</td>\n",
       "      <td>1993</td>\n",
       "    </tr>\n",
       "    <tr>\n",
       "      <th>8</th>\n",
       "      <td>52505</td>\n",
       "      <td>Knut Möller</td>\n",
       "      <td>https://d-nb.info/920656889|https://d-nb.info/...</td>\n",
       "      <td>3-929037-07-6</td>\n",
       "      <td>books/infix/Moller92</td>\n",
       "      <td>2021-07-17</td>\n",
       "      <td>Infix Verlag, St. Augustin, Germany</td>\n",
       "      <td>University of Bonn, Germany</td>\n",
       "      <td>DISKI</td>\n",
       "      <td>Adaptive Roboterkontrolle mit konnektionistisc...</td>\n",
       "      <td>1992</td>\n",
       "    </tr>\n",
       "    <tr>\n",
       "      <th>9</th>\n",
       "      <td>52509</td>\n",
       "      <td>Tilo Messer</td>\n",
       "      <td>https://d-nb.info/930025741|https://d-nb.info/...</td>\n",
       "      <td>3-929037-22-X</td>\n",
       "      <td>books/infix/Messer92</td>\n",
       "      <td>2021-07-17</td>\n",
       "      <td>Infix Verlag, St. Augustin, Germany</td>\n",
       "      <td>Technical University Munich, Germany</td>\n",
       "      <td>DISKI</td>\n",
       "      <td>Wissensbasierte Synthese von Bildanalyseprogra...</td>\n",
       "      <td>1992</td>\n",
       "    </tr>\n",
       "  </tbody>\n",
       "</table>\n",
       "</div>"
      ],
      "text/plain": [
       "      id              author  \\\n",
       "0  32726         Annika Lenz   \n",
       "1  36927  Vladislav Golyanik   \n",
       "2  36941   Elisabeth Schmidt   \n",
       "3  38654  Bernhard Mitschang   \n",
       "4  43377   Andreas Pfitzmann   \n",
       "5  43477     Wolf Zimmermann   \n",
       "6  46702      Mohammed Rajab   \n",
       "7  52504   Reinhard Prechtel   \n",
       "8  52505         Knut Möller   \n",
       "9  52509         Tilo Messer   \n",
       "\n",
       "                                       external_link               isbn  \\\n",
       "0  https://d-nb.info/1212528670|https://doi.org/1...  978-3-658-31174-2   \n",
       "1  https://d-nb.info/1209769611|https://doi.org/1...  978-3-658-30566-6   \n",
       "2  https://d-nb.info/1195457022|https://doi.org/1...  978-3-658-28157-1   \n",
       "3  https://d-nb.info/881158941|https://doi.org/10...      3-540-50346-3   \n",
       "4  https://d-nb.info/900199849|https://doi.org/10...      3-540-52327-8   \n",
       "5  https://d-nb.info/901488844|https://doi.org/10...      3-540-53430-X   \n",
       "6  https://d-nb.info/1201240719|https://doi.org/1...  978-3-658-28981-2   \n",
       "7                        https://d-nb.info/930375920      3-929037-28-9   \n",
       "8  https://d-nb.info/920656889|https://d-nb.info/...      3-929037-07-6   \n",
       "9  https://d-nb.info/930025741|https://d-nb.info/...      3-929037-22-X   \n",
       "\n",
       "                      key       mdate                            publisher  \\\n",
       "0         books/sp/Lenz20  2021-07-17                             Springer   \n",
       "1     books/sp/Golyanik20  2021-07-17                             Springer   \n",
       "2      books/sp/Schmidt20  2021-07-17                      Springer Vieweg   \n",
       "3    books/sp/Mitschang88  2021-07-17                             Springer   \n",
       "4    books/sp/Pfitzmann90  2024-03-15                             Springer   \n",
       "5   books/sp/Zimmermann90  2024-04-15                             Springer   \n",
       "6        books/sp/Rajab20  2021-07-17                             Springer   \n",
       "7  books/infix/Prechtel93  2021-07-17  Infix Verlag, St. Augustin, Germany   \n",
       "8    books/infix/Moller92  2021-07-17  Infix Verlag, St. Augustin, Germany   \n",
       "9    books/infix/Messer92  2021-07-17  Infix Verlag, St. Augustin, Germany   \n",
       "\n",
       "                                             school                   series  \\\n",
       "0       University of Hohenheim, Stuttgart, Germany                     <NA>   \n",
       "1  Kaiserslautern University of Technology, Germany                     <NA>   \n",
       "2        Chemnitz University of Technology, Germany                     <NA>   \n",
       "3  Kaiserslautern University of Technology, Germany  Informatik-Fachberichte   \n",
       "4        Karlsruhe Institute of Technology, Germany  Informatik-Fachberichte   \n",
       "5        Karlsruhe Institute of Technology, Germany  Informatik-Fachberichte   \n",
       "6                        University of Ulm, Germany                     <NA>   \n",
       "7         University of Erlangen-Nuremberg, Germany                    DISKI   \n",
       "8                       University of Bonn, Germany                    DISKI   \n",
       "9              Technical University Munich, Germany                    DISKI   \n",
       "\n",
       "                                               title  year  \n",
       "0  Dynamic Decision Support for Electronic Requir...  2020  \n",
       "1  Robust Methods for Dense Monocular Non-Rigid 3...  2020  \n",
       "2  Effects of Thermal Stimulation during Passive ...  2020  \n",
       "3  Ein Molekül-Atom-Datenmodell für Non-Standard-...  1988  \n",
       "4  Diensteintegrierende Kommunikationsnetze mit t...  1990  \n",
       "5  Automatische Komplexitätsanalyse funktionaler ...  1990  \n",
       "6  Channel and Source Coding for Non-Volatile Fla...  2020  \n",
       "7             Erklärungen für komplexe Wissensbasen.  1993  \n",
       "8  Adaptive Roboterkontrolle mit konnektionistisc...  1992  \n",
       "9  Wissensbasierte Synthese von Bildanalyseprogra...  1992  "
      ]
     },
     "execution_count": 48,
     "metadata": {},
     "output_type": "execute_result"
    }
   ],
   "source": [
    "data.head(10)"
   ]
  },
  {
   "cell_type": "code",
   "execution_count": 49,
   "metadata": {},
   "outputs": [],
   "source": [
    "data.to_csv(\"cleaned_phdthesis.csv\", index=False)"
   ]
  },
  {
   "cell_type": "code",
   "execution_count": 30,
   "metadata": {},
   "outputs": [],
   "source": [
    "data_school = data[['author', 'school']]"
   ]
  },
  {
   "cell_type": "code",
   "execution_count": 32,
   "metadata": {},
   "outputs": [],
   "source": [
    "# Remove duplicates\n",
    "data_school = data_school.drop_duplicates()"
   ]
  },
  {
   "cell_type": "code",
   "execution_count": 34,
   "metadata": {},
   "outputs": [],
   "source": [
    "data_school.to_csv(\"phdthesis_school_author_list.csv\", index=False)"
   ]
  },
  {
   "cell_type": "code",
   "execution_count": null,
   "metadata": {},
   "outputs": [],
   "source": []
  },
  {
   "cell_type": "code",
   "execution_count": null,
   "metadata": {},
   "outputs": [],
   "source": []
  }
 ],
 "metadata": {
  "kernelspec": {
   "display_name": "Python 3",
   "language": "python",
   "name": "python3"
  },
  "language_info": {
   "codemirror_mode": {
    "name": "ipython",
    "version": 3
   },
   "file_extension": ".py",
   "mimetype": "text/x-python",
   "name": "python",
   "nbconvert_exporter": "python",
   "pygments_lexer": "ipython3",
   "version": "3.8.5"
  }
 },
 "nbformat": 4,
 "nbformat_minor": 4
}
