{
 "cells": [
  {
   "cell_type": "code",
   "execution_count": 225,
   "metadata": {},
   "outputs": [],
   "source": [
    "import pandas as pd"
   ]
  },
  {
   "cell_type": "code",
   "execution_count": 226,
   "metadata": {},
   "outputs": [],
   "source": [
    "# Define the data types for each column\n",
    "dtype_dict = {\n",
    "    'id': 'int64',\n",
    "    'author': 'string',\n",
    "    'author-bibtex': 'string',\n",
    "    'author-orcid': 'string',\n",
    "    'booktitle': 'string',  # Use string for text data\n",
    "    'cdrom': 'string',\n",
    "    'cite': 'string',\n",
    "    'cite-label': 'string',\n",
    "    'crossref': 'string',\n",
    "    'editor': 'string',\n",
    "    'editor-orcid': 'string',\n",
    "    'ee': 'string',\n",
    "    'ee-type': 'string',\n",
    "    'i': 'string',\n",
    "    'isbn': 'string',  # ISBNs can have non-numeric characters\n",
    "    'isbn-type': 'string',\n",
    "    'journal': 'string',\n",
    "    'key': 'string',\n",
    "    'mdate': 'string',\n",
    "    'month': 'string',\n",
    "    'note': 'string',\n",
    "    'note-type': 'string',\n",
    "    'pages': 'string',  # Pages may have ranges like \"12-34\"\n",
    "    'publisher': 'string',\n",
    "    'publisher-href': 'string',\n",
    "    'publtype': 'string',\n",
    "    'school': 'string',\n",
    "    'series': 'string',\n",
    "    'series-href': 'string',\n",
    "    'sub': 'string',\n",
    "    'sup': 'string',\n",
    "    'title': 'string',\n",
    "    'url': 'string',\n",
    "    'volume': 'string',\n",
    "    'year': 'string',\n",
    "}\n",
    "\n",
    "\n"
   ]
  },
  {
   "cell_type": "code",
   "execution_count": 227,
   "metadata": {},
   "outputs": [],
   "source": [
    "# Read the CSV file\n",
    "data = pd.read_csv(\n",
    "    \"data/o_file_book.csv\",\n",
    "    sep=';',          # Specify the delimiter\n",
    "    dtype=dtype_dict\n",
    ")\n",
    "\n"
   ]
  },
  {
   "cell_type": "code",
   "execution_count": 228,
   "metadata": {},
   "outputs": [
    {
     "name": "stdout",
     "output_type": "stream",
     "text": [
      "     id author author-bibtex author-orcid  \\\n",
      "0  1151   <NA>          <NA>         <NA>   \n",
      "1  1299   <NA>          <NA>         <NA>   \n",
      "2  2648   <NA>          <NA>         <NA>   \n",
      "3  2727   <NA>          <NA>         <NA>   \n",
      "4  2948   <NA>          <NA>         <NA>   \n",
      "\n",
      "                                           booktitle cdrom  cite cite-label  \\\n",
      "0  Encyclopedia of Social Network Analysis and Mi...  <NA>  <NA>       <NA>   \n",
      "1                                               <NA>  <NA>  <NA>       <NA>   \n",
      "2              Handbook of Signal Processing Systems  <NA>  <NA>       <NA>   \n",
      "3            Encyclopedia of Artificial Intelligence  <NA>  <NA>       <NA>   \n",
      "4                                               <NA>  <NA>  <NA>       <NA>   \n",
      "\n",
      "  crossref                                             editor  ... publtype  \\\n",
      "0     <NA>                           Jon G. Rokne|Reda Alhajj  ...     <NA>   \n",
      "1     <NA>                           Jon G. Rokne|Reda Alhajj  ...     <NA>   \n",
      "2     <NA>  Ed F. Deprettere|Jarmo Takala|Rainer Leupers|S...  ...     <NA>   \n",
      "3     <NA>      Alejandro Pazos|Juan R. Rabuñal|Julián Dorado  ...     <NA>   \n",
      "4     <NA>                   Jacob E. Goodman|Joseph O'Rourke  ...     <NA>   \n",
      "\n",
      "  school series series-href   sub   sup  \\\n",
      "0   <NA>   <NA>        <NA>  <NA>  <NA>   \n",
      "1   <NA>   <NA>        <NA>  <NA>  <NA>   \n",
      "2   <NA>   <NA>        <NA>  <NA>  <NA>   \n",
      "3   <NA>   <NA>        <NA>  <NA>  <NA>   \n",
      "4   <NA>   <NA>        <NA>  <NA>  <NA>   \n",
      "\n",
      "                                               title  \\\n",
      "0  Encyclopedia of Social Network Analysis and Mi...   \n",
      "1  Encyclopedia of Social Network Analysis and Mi...   \n",
      "2              Handbook of Signal Processing Systems   \n",
      "3  Encyclopedia of Artificial Intelligence (3 Vol...   \n",
      "4  Handbook of Discrete and Computational Geometr...   \n",
      "\n",
      "                               url volume  year  \n",
      "0  db/reference/snam/snam2014.html   <NA>  2014  \n",
      "1  db/reference/snam/snam2018.html   <NA>  2018  \n",
      "2    db/reference/sps/sps2013.html   <NA>  2013  \n",
      "3      db/reference/ai/ai2009.html   <NA>  2009  \n",
      "4     db/reference/cg/dcg2004.html   <NA>  2004  \n",
      "\n",
      "[5 rows x 35 columns]\n"
     ]
    }
   ],
   "source": [
    "# Check the first few rows\n",
    "print(data.head())"
   ]
  },
  {
   "cell_type": "code",
   "execution_count": 229,
   "metadata": {},
   "outputs": [
    {
     "name": "stdout",
     "output_type": "stream",
     "text": [
      "<class 'pandas.core.frame.DataFrame'>\n",
      "RangeIndex: 20907 entries, 0 to 20906\n",
      "Data columns (total 35 columns):\n",
      " #   Column          Non-Null Count  Dtype \n",
      "---  ------          --------------  ----- \n",
      " 0   id              20907 non-null  int64 \n",
      " 1   author          18383 non-null  string\n",
      " 2   author-bibtex   1 non-null      string\n",
      " 3   author-orcid    1677 non-null   string\n",
      " 4   booktitle       1794 non-null   string\n",
      " 5   cdrom           1 non-null      string\n",
      " 6   cite            10 non-null     string\n",
      " 7   cite-label      9 non-null      string\n",
      " 8   crossref        71 non-null     string\n",
      " 9   editor          2408 non-null   string\n",
      " 10  editor-orcid    673 non-null    string\n",
      " 11  ee              14181 non-null  string\n",
      " 12  ee-type         1103 non-null   string\n",
      " 13  i               2 non-null      string\n",
      " 14  isbn            18535 non-null  string\n",
      " 15  isbn-type       22 non-null     string\n",
      " 16  journal         1 non-null      string\n",
      " 17  key             20907 non-null  string\n",
      " 18  mdate           20907 non-null  string\n",
      " 19  month           1 non-null      string\n",
      " 20  note            68 non-null     string\n",
      " 21  note-type       62 non-null     string\n",
      " 22  pages           14348 non-null  string\n",
      " 23  publisher       18907 non-null  string\n",
      " 24  publisher-href  88 non-null     string\n",
      " 25  publtype        1907 non-null   string\n",
      " 26  school          2343 non-null   string\n",
      " 27  series          9084 non-null   string\n",
      " 28  series-href     5605 non-null   string\n",
      " 29  sub             3 non-null      string\n",
      " 30  sup             21 non-null     string\n",
      " 31  title           20906 non-null  string\n",
      " 32  url             2531 non-null   string\n",
      " 33  volume          4340 non-null   string\n",
      " 34  year            20907 non-null  string\n",
      "dtypes: int64(1), string(34)\n",
      "memory usage: 5.6 MB\n",
      "None\n",
      "                 id\n",
      "count  2.090700e+04\n",
      "mean   2.601987e+06\n",
      "std    4.699994e+06\n",
      "min    1.151000e+03\n",
      "25%    5.336750e+04\n",
      "50%    6.217300e+04\n",
      "75%    6.802850e+04\n",
      "max    1.132772e+07\n"
     ]
    }
   ],
   "source": [
    "print(data.info())\n",
    "print(data.describe())"
   ]
  },
  {
   "cell_type": "code",
   "execution_count": 230,
   "metadata": {},
   "outputs": [
    {
     "name": "stdout",
     "output_type": "stream",
     "text": [
      "id                    0\n",
      "author             2524\n",
      "author-bibtex     20906\n",
      "author-orcid      19230\n",
      "booktitle         19113\n",
      "cdrom             20906\n",
      "cite              20897\n",
      "cite-label        20898\n",
      "crossref          20836\n",
      "editor            18499\n",
      "editor-orcid      20234\n",
      "ee                 6726\n",
      "ee-type           19804\n",
      "i                 20905\n",
      "isbn               2372\n",
      "isbn-type         20885\n",
      "journal           20906\n",
      "key                   0\n",
      "mdate                 0\n",
      "month             20906\n",
      "note              20839\n",
      "note-type         20845\n",
      "pages              6559\n",
      "publisher          2000\n",
      "publisher-href    20819\n",
      "publtype          19000\n",
      "school            18564\n",
      "series            11823\n",
      "series-href       15302\n",
      "sub               20904\n",
      "sup               20886\n",
      "title                 1\n",
      "url               18376\n",
      "volume            16567\n",
      "year                  0\n",
      "dtype: int64\n"
     ]
    }
   ],
   "source": [
    "print(data.isnull().sum())"
   ]
  },
  {
   "cell_type": "code",
   "execution_count": 231,
   "metadata": {},
   "outputs": [],
   "source": [
    "data.dropna(axis=0, how='all', inplace=True) # Drop rows"
   ]
  },
  {
   "cell_type": "code",
   "execution_count": 232,
   "metadata": {},
   "outputs": [],
   "source": [
    "data.dropna(axis=1, how='all', inplace=True)  # Drop columns"
   ]
  },
  {
   "cell_type": "code",
   "execution_count": 233,
   "metadata": {},
   "outputs": [],
   "source": [
    "data.drop_duplicates(inplace=True) #Remove duplications"
   ]
  },
  {
   "cell_type": "code",
   "execution_count": 234,
   "metadata": {},
   "outputs": [
    {
     "name": "stdout",
     "output_type": "stream",
     "text": [
      "Index(['id', 'author', 'author-bibtex', 'author-orcid', 'booktitle', 'cdrom',\n",
      "       'cite', 'cite-label', 'crossref', 'editor', 'editor-orcid', 'ee',\n",
      "       'ee-type', 'i', 'isbn', 'isbn-type', 'journal', 'key', 'mdate', 'month',\n",
      "       'note', 'note-type', 'pages', 'publisher', 'publisher-href', 'publtype',\n",
      "       'school', 'series', 'series-href', 'sub', 'sup', 'title', 'url',\n",
      "       'volume', 'year'],\n",
      "      dtype='object')\n"
     ]
    }
   ],
   "source": [
    "# Get the list of columns\n",
    "column_names = data.columns\n",
    "# Display the column names\n",
    "print(data.columns)"
   ]
  },
  {
   "cell_type": "code",
   "execution_count": 235,
   "metadata": {},
   "outputs": [
    {
     "name": "stdout",
     "output_type": "stream",
     "text": [
      "<class 'pandas.core.frame.DataFrame'>\n",
      "RangeIndex: 20907 entries, 0 to 20906\n",
      "Data columns (total 35 columns):\n",
      " #   Column          Non-Null Count  Dtype \n",
      "---  ------          --------------  ----- \n",
      " 0   id              20907 non-null  int64 \n",
      " 1   author          18383 non-null  string\n",
      " 2   author-bibtex   1 non-null      string\n",
      " 3   author-orcid    1677 non-null   string\n",
      " 4   booktitle       1794 non-null   string\n",
      " 5   cdrom           1 non-null      string\n",
      " 6   cite            10 non-null     string\n",
      " 7   cite-label      9 non-null      string\n",
      " 8   crossref        71 non-null     string\n",
      " 9   editor          2408 non-null   string\n",
      " 10  editor-orcid    673 non-null    string\n",
      " 11  ee              14181 non-null  string\n",
      " 12  ee-type         1103 non-null   string\n",
      " 13  i               2 non-null      string\n",
      " 14  isbn            18535 non-null  string\n",
      " 15  isbn-type       22 non-null     string\n",
      " 16  journal         1 non-null      string\n",
      " 17  key             20907 non-null  string\n",
      " 18  mdate           20907 non-null  string\n",
      " 19  month           1 non-null      string\n",
      " 20  note            68 non-null     string\n",
      " 21  note-type       62 non-null     string\n",
      " 22  pages           14348 non-null  string\n",
      " 23  publisher       18907 non-null  string\n",
      " 24  publisher-href  88 non-null     string\n",
      " 25  publtype        1907 non-null   string\n",
      " 26  school          2343 non-null   string\n",
      " 27  series          9084 non-null   string\n",
      " 28  series-href     5605 non-null   string\n",
      " 29  sub             3 non-null      string\n",
      " 30  sup             21 non-null     string\n",
      " 31  title           20906 non-null  string\n",
      " 32  url             2531 non-null   string\n",
      " 33  volume          4340 non-null   string\n",
      " 34  year            20907 non-null  string\n",
      "dtypes: int64(1), string(34)\n",
      "memory usage: 5.6 MB\n",
      "None\n",
      "                 id\n",
      "count  2.090700e+04\n",
      "mean   2.601987e+06\n",
      "std    4.699994e+06\n",
      "min    1.151000e+03\n",
      "25%    5.336750e+04\n",
      "50%    6.217300e+04\n",
      "75%    6.802850e+04\n",
      "max    1.132772e+07\n"
     ]
    }
   ],
   "source": [
    "print(data.info())\n",
    "print(data.describe())"
   ]
  },
  {
   "cell_type": "code",
   "execution_count": 236,
   "metadata": {},
   "outputs": [],
   "source": [
    "# List of columns to delete\n",
    "columns_to_delete = ['author-bibtex', 'author-orcid', 'booktitle','cdrom','cite','cite-label','crossref','editor-orcid','ee-type','i','isbn-type','mdate',\n",
    "                    'month','note','note-type','pages','publisher-href','series-href','sub','sup',\n",
    "                    'volume']"
   ]
  },
  {
   "cell_type": "code",
   "execution_count": 237,
   "metadata": {},
   "outputs": [],
   "source": [
    "# Drop the specified columns\n",
    "data.drop(columns=columns_to_delete, inplace=True)"
   ]
  },
  {
   "cell_type": "code",
   "execution_count": 238,
   "metadata": {},
   "outputs": [
    {
     "data": {
      "text/plain": [
       "Index(['id', 'author', 'editor', 'ee', 'isbn', 'journal', 'key', 'publisher',\n",
       "       'publtype', 'school', 'series', 'title', 'url', 'year'],\n",
       "      dtype='object')"
      ]
     },
     "execution_count": 238,
     "metadata": {},
     "output_type": "execute_result"
    }
   ],
   "source": [
    "data.columns"
   ]
  },
  {
   "cell_type": "code",
   "execution_count": 239,
   "metadata": {},
   "outputs": [],
   "source": [
    "data.rename(columns={'ee': 'external_link'}, inplace=True)"
   ]
  },
  {
   "cell_type": "code",
   "execution_count": 240,
   "metadata": {},
   "outputs": [],
   "source": [
    "data.rename(columns={'author': 'authors'}, inplace=True)"
   ]
  },
  {
   "cell_type": "code",
   "execution_count": 241,
   "metadata": {},
   "outputs": [
    {
     "data": {
      "text/plain": [
       "Index(['id', 'authors', 'editor', 'external_link', 'isbn', 'journal', 'key',\n",
       "       'publisher', 'publtype', 'school', 'series', 'title', 'url', 'year'],\n",
       "      dtype='object')"
      ]
     },
     "execution_count": 241,
     "metadata": {},
     "output_type": "execute_result"
    }
   ],
   "source": [
    "data.columns"
   ]
  },
  {
   "cell_type": "code",
   "execution_count": 242,
   "metadata": {},
   "outputs": [],
   "source": [
    "# Fill missing authors with editors\n",
    "data['authors'] = data.apply(\n",
    "    lambda row: row['editor'] if pd.isna(row['authors']) or row['authors'] == '' else row['authors'],\n",
    "    axis=1\n",
    ")"
   ]
  },
  {
   "cell_type": "code",
   "execution_count": 243,
   "metadata": {},
   "outputs": [],
   "source": [
    "# Drop the 'editor' column since it contains same information as author\n",
    "data.drop(columns='editor', inplace=True)"
   ]
  },
  {
   "cell_type": "code",
   "execution_count": 174,
   "metadata": {},
   "outputs": [],
   "source": []
  },
  {
   "cell_type": "code",
   "execution_count": 244,
   "metadata": {},
   "outputs": [
    {
     "data": {
      "text/plain": [
       "Index(['id', 'authors', 'external_link', 'isbn', 'journal', 'key', 'publisher',\n",
       "       'publtype', 'school', 'series', 'title', 'url', 'year'],\n",
       "      dtype='object')"
      ]
     },
     "execution_count": 244,
     "metadata": {},
     "output_type": "execute_result"
    }
   ],
   "source": [
    "data.columns"
   ]
  },
  {
   "cell_type": "code",
   "execution_count": 245,
   "metadata": {},
   "outputs": [],
   "source": [
    "# Split the authors into a list\n",
    "data['author_list'] = data['authors'].str.split('|')"
   ]
  },
  {
   "cell_type": "code",
   "execution_count": 246,
   "metadata": {},
   "outputs": [],
   "source": [
    "# Explode the list into multiple rows\n",
    "data_long = data.explode('author_list', ignore_index=True)"
   ]
  },
  {
   "cell_type": "code",
   "execution_count": 247,
   "metadata": {},
   "outputs": [],
   "source": [
    "# Rename the column for clarity\n",
    "data_long.rename(columns={'author_list': 'author'}, inplace=True)"
   ]
  },
  {
   "cell_type": "code",
   "execution_count": 248,
   "metadata": {},
   "outputs": [
    {
     "data": {
      "text/plain": [
       "Index(['id', 'authors', 'external_link', 'isbn', 'journal', 'key', 'publisher',\n",
       "       'publtype', 'school', 'series', 'title', 'url', 'year', 'author_list'],\n",
       "      dtype='object')"
      ]
     },
     "execution_count": 248,
     "metadata": {},
     "output_type": "execute_result"
    }
   ],
   "source": [
    "data.columns"
   ]
  },
  {
   "cell_type": "code",
   "execution_count": 249,
   "metadata": {},
   "outputs": [
    {
     "name": "stdout",
     "output_type": "stream",
     "text": [
      "Number of rows: 37538\n"
     ]
    }
   ],
   "source": [
    "row_count = data_long.shape[0]\n",
    "print(f\"Number of rows: {row_count}\")"
   ]
  },
  {
   "cell_type": "code",
   "execution_count": 250,
   "metadata": {},
   "outputs": [],
   "source": [
    "data_long.drop_duplicates(inplace=True) #Remove duplications"
   ]
  },
  {
   "cell_type": "code",
   "execution_count": 251,
   "metadata": {},
   "outputs": [],
   "source": [
    "# Remove digits from the 'author' column using a regular expression\n",
    "data_long['author'] = data_long['author'].str.replace(r'\\d+', '', regex=True).str.strip()"
   ]
  },
  {
   "cell_type": "code",
   "execution_count": 252,
   "metadata": {},
   "outputs": [
    {
     "name": "stdout",
     "output_type": "stream",
     "text": [
      "     id                                            authors  \\\n",
      "0  1151                           Jon G. Rokne|Reda Alhajj   \n",
      "1  1151                           Jon G. Rokne|Reda Alhajj   \n",
      "2  1299                           Jon G. Rokne|Reda Alhajj   \n",
      "3  1299                           Jon G. Rokne|Reda Alhajj   \n",
      "4  2648  Ed F. Deprettere|Jarmo Takala|Rainer Leupers|S...   \n",
      "5  2648  Ed F. Deprettere|Jarmo Takala|Rainer Leupers|S...   \n",
      "6  2648  Ed F. Deprettere|Jarmo Takala|Rainer Leupers|S...   \n",
      "7  2648  Ed F. Deprettere|Jarmo Takala|Rainer Leupers|S...   \n",
      "8  2727      Alejandro Pazos|Juan R. Rabuñal|Julián Dorado   \n",
      "9  2727      Alejandro Pazos|Juan R. Rabuñal|Julián Dorado   \n",
      "\n",
      "                                       external_link  \\\n",
      "0          https://doi.org/10.1007/978-1-4614-6170-8   \n",
      "1          https://doi.org/10.1007/978-1-4614-6170-8   \n",
      "2  https://doi.org/10.1007/978-1-4614-6170-8|http...   \n",
      "3  https://doi.org/10.1007/978-1-4614-6170-8|http...   \n",
      "4          https://doi.org/10.1007/978-1-4614-6859-2   \n",
      "5          https://doi.org/10.1007/978-1-4614-6859-2   \n",
      "6          https://doi.org/10.1007/978-1-4614-6859-2   \n",
      "7          https://doi.org/10.1007/978-1-4614-6859-2   \n",
      "8          https://doi.org/10.4018/978-1-59904-849-9   \n",
      "9          https://doi.org/10.4018/978-1-59904-849-9   \n",
      "\n",
      "                                  isbn journal                  key  \\\n",
      "0  978-1-4614-6169-2|978-1-4614-6170-8    <NA>  reference/snam/2014   \n",
      "1  978-1-4614-6169-2|978-1-4614-6170-8    <NA>  reference/snam/2014   \n",
      "2                                 <NA>    <NA>  reference/snam/2018   \n",
      "3                                 <NA>    <NA>  reference/snam/2018   \n",
      "4  978-1-4614-6858-5|978-1-4614-6859-2    <NA>   reference/sps/2013   \n",
      "5  978-1-4614-6858-5|978-1-4614-6859-2    <NA>   reference/sps/2013   \n",
      "6  978-1-4614-6858-5|978-1-4614-6859-2    <NA>   reference/sps/2013   \n",
      "7  978-1-4614-6858-5|978-1-4614-6859-2    <NA>   reference/sps/2013   \n",
      "8                        9781599048499    <NA>    reference/ai/2009   \n",
      "9                        9781599048499    <NA>    reference/ai/2009   \n",
      "\n",
      "    publisher publtype school series  \\\n",
      "0    Springer     <NA>   <NA>   <NA>   \n",
      "1    Springer     <NA>   <NA>   <NA>   \n",
      "2    Springer     <NA>   <NA>   <NA>   \n",
      "3    Springer     <NA>   <NA>   <NA>   \n",
      "4    Springer     <NA>   <NA>   <NA>   \n",
      "5    Springer     <NA>   <NA>   <NA>   \n",
      "6    Springer     <NA>   <NA>   <NA>   \n",
      "7    Springer     <NA>   <NA>   <NA>   \n",
      "8  IGI Global     <NA>   <NA>   <NA>   \n",
      "9  IGI Global     <NA>   <NA>   <NA>   \n",
      "\n",
      "                                               title  \\\n",
      "0  Encyclopedia of Social Network Analysis and Mi...   \n",
      "1  Encyclopedia of Social Network Analysis and Mi...   \n",
      "2  Encyclopedia of Social Network Analysis and Mi...   \n",
      "3  Encyclopedia of Social Network Analysis and Mi...   \n",
      "4              Handbook of Signal Processing Systems   \n",
      "5              Handbook of Signal Processing Systems   \n",
      "6              Handbook of Signal Processing Systems   \n",
      "7              Handbook of Signal Processing Systems   \n",
      "8  Encyclopedia of Artificial Intelligence (3 Vol...   \n",
      "9  Encyclopedia of Artificial Intelligence (3 Vol...   \n",
      "\n",
      "                               url  year                   author  \n",
      "0  db/reference/snam/snam2014.html  2014             Jon G. Rokne  \n",
      "1  db/reference/snam/snam2014.html  2014              Reda Alhajj  \n",
      "2  db/reference/snam/snam2018.html  2018             Jon G. Rokne  \n",
      "3  db/reference/snam/snam2018.html  2018              Reda Alhajj  \n",
      "4    db/reference/sps/sps2013.html  2013         Ed F. Deprettere  \n",
      "5    db/reference/sps/sps2013.html  2013             Jarmo Takala  \n",
      "6    db/reference/sps/sps2013.html  2013           Rainer Leupers  \n",
      "7    db/reference/sps/sps2013.html  2013  Shuvra S. Bhattacharyya  \n",
      "8      db/reference/ai/ai2009.html  2009          Alejandro Pazos  \n",
      "9      db/reference/ai/ai2009.html  2009          Juan R. Rabuñal  \n"
     ]
    }
   ],
   "source": [
    "# Display the first 10 rows\n",
    "print(data_long.head(10))"
   ]
  },
  {
   "cell_type": "code",
   "execution_count": 254,
   "metadata": {},
   "outputs": [],
   "source": [
    "data_long.to_csv(\"cleaned_books.csv\", index=False)"
   ]
  },
  {
   "cell_type": "code",
   "execution_count": 255,
   "metadata": {},
   "outputs": [],
   "source": [
    "# Create a new DataFrame with only \"author\" and \"school\" columns\n",
    "data_author_school = data_long[['author', 'school']]"
   ]
  },
  {
   "cell_type": "code",
   "execution_count": 256,
   "metadata": {},
   "outputs": [
    {
     "data": {
      "text/html": [
       "<div>\n",
       "<style scoped>\n",
       "    .dataframe tbody tr th:only-of-type {\n",
       "        vertical-align: middle;\n",
       "    }\n",
       "\n",
       "    .dataframe tbody tr th {\n",
       "        vertical-align: top;\n",
       "    }\n",
       "\n",
       "    .dataframe thead th {\n",
       "        text-align: right;\n",
       "    }\n",
       "</style>\n",
       "<table border=\"1\" class=\"dataframe\">\n",
       "  <thead>\n",
       "    <tr style=\"text-align: right;\">\n",
       "      <th></th>\n",
       "      <th>author</th>\n",
       "      <th>school</th>\n",
       "    </tr>\n",
       "  </thead>\n",
       "  <tbody>\n",
       "    <tr>\n",
       "      <th>0</th>\n",
       "      <td>Jon G. Rokne</td>\n",
       "      <td>&lt;NA&gt;</td>\n",
       "    </tr>\n",
       "    <tr>\n",
       "      <th>1</th>\n",
       "      <td>Reda Alhajj</td>\n",
       "      <td>&lt;NA&gt;</td>\n",
       "    </tr>\n",
       "    <tr>\n",
       "      <th>2</th>\n",
       "      <td>Jon G. Rokne</td>\n",
       "      <td>&lt;NA&gt;</td>\n",
       "    </tr>\n",
       "    <tr>\n",
       "      <th>3</th>\n",
       "      <td>Reda Alhajj</td>\n",
       "      <td>&lt;NA&gt;</td>\n",
       "    </tr>\n",
       "    <tr>\n",
       "      <th>4</th>\n",
       "      <td>Ed F. Deprettere</td>\n",
       "      <td>&lt;NA&gt;</td>\n",
       "    </tr>\n",
       "  </tbody>\n",
       "</table>\n",
       "</div>"
      ],
      "text/plain": [
       "             author school\n",
       "0      Jon G. Rokne   <NA>\n",
       "1       Reda Alhajj   <NA>\n",
       "2      Jon G. Rokne   <NA>\n",
       "3       Reda Alhajj   <NA>\n",
       "4  Ed F. Deprettere   <NA>"
      ]
     },
     "execution_count": 256,
     "metadata": {},
     "output_type": "execute_result"
    }
   ],
   "source": [
    "data_author_school.head()"
   ]
  },
  {
   "cell_type": "code",
   "execution_count": 257,
   "metadata": {},
   "outputs": [],
   "source": [
    "# Remove rows where the 'school' column is empty or NaN\n",
    "data_author_school = data_author_school[data_author_school['school'].notna()] "
   ]
  },
  {
   "cell_type": "code",
   "execution_count": 263,
   "metadata": {},
   "outputs": [
    {
     "data": {
      "text/html": [
       "<div>\n",
       "<style scoped>\n",
       "    .dataframe tbody tr th:only-of-type {\n",
       "        vertical-align: middle;\n",
       "    }\n",
       "\n",
       "    .dataframe tbody tr th {\n",
       "        vertical-align: top;\n",
       "    }\n",
       "\n",
       "    .dataframe thead th {\n",
       "        text-align: right;\n",
       "    }\n",
       "</style>\n",
       "<table border=\"1\" class=\"dataframe\">\n",
       "  <thead>\n",
       "    <tr style=\"text-align: right;\">\n",
       "      <th></th>\n",
       "      <th>author</th>\n",
       "      <th>school</th>\n",
       "    </tr>\n",
       "  </thead>\n",
       "  <tbody>\n",
       "    <tr>\n",
       "      <th>1210</th>\n",
       "      <td>Dirk Müller</td>\n",
       "      <td>TU Chemnitz, Germany</td>\n",
       "    </tr>\n",
       "    <tr>\n",
       "      <th>1493</th>\n",
       "      <td>Bernhard J. Frommherz</td>\n",
       "      <td>Karlsruhe Institute of Technology, Germany</td>\n",
       "    </tr>\n",
       "    <tr>\n",
       "      <th>1598</th>\n",
       "      <td>Changsheng Hua</td>\n",
       "      <td>University of Duisburg-Essen, Germany</td>\n",
       "    </tr>\n",
       "    <tr>\n",
       "      <th>1614</th>\n",
       "      <td>Helmut Petritsch</td>\n",
       "      <td>University of Regensburg</td>\n",
       "    </tr>\n",
       "    <tr>\n",
       "      <th>1615</th>\n",
       "      <td>Klaus Küspert</td>\n",
       "      <td>Kaiserslautern University of Technology, Germany</td>\n",
       "    </tr>\n",
       "    <tr>\n",
       "      <th>...</th>\n",
       "      <td>...</td>\n",
       "      <td>...</td>\n",
       "    </tr>\n",
       "    <tr>\n",
       "      <th>37503</th>\n",
       "      <td>Mayank Kejriwal</td>\n",
       "      <td>University of Texas at Austin, United States o...</td>\n",
       "    </tr>\n",
       "    <tr>\n",
       "      <th>37506</th>\n",
       "      <td>Jens Lehmann</td>\n",
       "      <td>University of Leipzig</td>\n",
       "    </tr>\n",
       "    <tr>\n",
       "      <th>37508</th>\n",
       "      <td>Michalis Mountantonakis</td>\n",
       "      <td>University of Crete, Rethymnon, Greece</td>\n",
       "    </tr>\n",
       "    <tr>\n",
       "      <th>37520</th>\n",
       "      <td>Boris Villazón-Terrazas</td>\n",
       "      <td>Technical University of Madrid</td>\n",
       "    </tr>\n",
       "    <tr>\n",
       "      <th>37523</th>\n",
       "      <td>Daniel Dominik Janke</td>\n",
       "      <td>University of Koblenz and Landau, Germany</td>\n",
       "    </tr>\n",
       "  </tbody>\n",
       "</table>\n",
       "<p>2337 rows × 2 columns</p>\n",
       "</div>"
      ],
      "text/plain": [
       "                        author  \\\n",
       "1210               Dirk Müller   \n",
       "1493     Bernhard J. Frommherz   \n",
       "1598            Changsheng Hua   \n",
       "1614          Helmut Petritsch   \n",
       "1615             Klaus Küspert   \n",
       "...                        ...   \n",
       "37503          Mayank Kejriwal   \n",
       "37506             Jens Lehmann   \n",
       "37508  Michalis Mountantonakis   \n",
       "37520  Boris Villazón-Terrazas   \n",
       "37523     Daniel Dominik Janke   \n",
       "\n",
       "                                                  school  \n",
       "1210                                TU Chemnitz, Germany  \n",
       "1493          Karlsruhe Institute of Technology, Germany  \n",
       "1598               University of Duisburg-Essen, Germany  \n",
       "1614                            University of Regensburg  \n",
       "1615    Kaiserslautern University of Technology, Germany  \n",
       "...                                                  ...  \n",
       "37503  University of Texas at Austin, United States o...  \n",
       "37506                              University of Leipzig  \n",
       "37508             University of Crete, Rethymnon, Greece  \n",
       "37520                     Technical University of Madrid  \n",
       "37523          University of Koblenz and Landau, Germany  \n",
       "\n",
       "[2337 rows x 2 columns]"
      ]
     },
     "execution_count": 263,
     "metadata": {},
     "output_type": "execute_result"
    }
   ],
   "source": [
    "data_author_school"
   ]
  },
  {
   "cell_type": "code",
   "execution_count": 262,
   "metadata": {},
   "outputs": [],
   "source": [
    "data_author_school.drop_duplicates(inplace=True) #Remove duplications"
   ]
  },
  {
   "cell_type": "code",
   "execution_count": 264,
   "metadata": {},
   "outputs": [],
   "source": [
    "data_author_school.to_csv(\"book_author_school_list.csv\", index=False)"
   ]
  },
  {
   "cell_type": "code",
   "execution_count": null,
   "metadata": {},
   "outputs": [],
   "source": []
  },
  {
   "cell_type": "code",
   "execution_count": null,
   "metadata": {},
   "outputs": [],
   "source": []
  }
 ],
 "metadata": {
  "kernelspec": {
   "display_name": "Python 3",
   "language": "python",
   "name": "python3"
  },
  "language_info": {
   "codemirror_mode": {
    "name": "ipython",
    "version": 3
   },
   "file_extension": ".py",
   "mimetype": "text/x-python",
   "name": "python",
   "nbconvert_exporter": "python",
   "pygments_lexer": "ipython3",
   "version": "3.8.5"
  }
 },
 "nbformat": 4,
 "nbformat_minor": 4
}
