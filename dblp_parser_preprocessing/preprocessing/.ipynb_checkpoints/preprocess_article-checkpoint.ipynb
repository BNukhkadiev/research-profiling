{
 "cells": [
  {
   "cell_type": "code",
   "execution_count": 2,
   "metadata": {},
   "outputs": [],
   "source": [
    "import pandas as pd"
   ]
  },
  {
   "cell_type": "code",
   "execution_count": 3,
   "metadata": {},
   "outputs": [
    {
     "name": "stderr",
     "output_type": "stream",
     "text": [
      "<ipython-input-3-d7d909162074>:2: DtypeWarning: Columns (2,4,5,6,7,8,9,10,11,14,18,19,20,21,22,23,24,25,26,31,32,34) have mixed types. Specify dtype option on import or set low_memory=False.\n",
      "  data = pd.read_csv(\"/Users/najib/Desktop/Research-Profiling/research-profiling/dblp_dataset/o_file_article.csv\", sep=';')\n"
     ]
    }
   ],
   "source": [
    "# Load the CSV file\n",
    "#data = pd.read_csv(\"data/o_file_article.csv\", sep=';')"
   ]
  },
  {
   "cell_type": "code",
   "execution_count": null,
   "metadata": {},
   "outputs": [],
   "source": [
    "#get data types from a sample to import the whole dataset properly\n",
    "#data_sample = pd.read_csv(csv_file, sep=';', nrows=100)\n",
    "# Print column data types\n",
    "#print(data_sample.dtypes)"
   ]
  },
  {
   "cell_type": "code",
   "execution_count": 4,
   "metadata": {},
   "outputs": [],
   "source": [
    "dtype_dict = {\n",
    "    'id': 'int64',\n",
    "    'author': 'string',\n",
    "    'author-aux': 'string',\n",
    "    'author-orcid': 'string',\n",
    "    'booktitle': 'string',\n",
    "    'cdate': 'string',\n",
    "    'cdrom': 'string',\n",
    "    'cite': 'string',\n",
    "    'cite-label': 'string',\n",
    "    'crossref': 'string',\n",
    "    'editor': 'string',\n",
    "    'editor-orcid': 'string',\n",
    "    'ee': 'string',\n",
    "    'ee-type': 'string',\n",
    "    'i': 'string',\n",
    "    'journal': 'string',\n",
    "    'key': 'string',\n",
    "    'mdate': 'string',\n",
    "    'month': 'string',\n",
    "    'note': 'string',\n",
    "    'note-label': 'string',\n",
    "    'note-type': 'string',\n",
    "    'number': 'string',\n",
    "    'pages': 'string',\n",
    "    'publisher': 'string',\n",
    "    'publnr': 'string',\n",
    "    'publtype': 'string',\n",
    "    'stream': 'string',\n",
    "    'sub': 'string',\n",
    "    'sup': 'string',\n",
    "    'title': 'string',\n",
    "    'title-bibtex': 'string',\n",
    "    'tt': 'string',\n",
    "    'url': 'string',\n",
    "    'volume': 'string',\n",
    "    'year': 'string'\n",
    "}\n"
   ]
  },
  {
   "cell_type": "code",
   "execution_count": 5,
   "metadata": {},
   "outputs": [],
   "source": [
    "# Read the CSV file\n",
    "data = pd.read_csv(\n",
    "    \"data/o_file_article.csv\",\n",
    "    sep=';',          # Specify the delimiter\n",
    "    dtype=dtype_dict\n",
    ")"
   ]
  },
  {
   "cell_type": "code",
   "execution_count": 6,
   "metadata": {},
   "outputs": [],
   "source": [
    "# List of columns to delete\n",
    "columns_to_delete = ['author-aux','author-orcid','booktitle','cdate','cdrom','cite','cite-label','crossref','editor','editor-orcid',\n",
    "'ee-type','i','month','number','title-bibtex','tt','volume','note','note-label','stream','sub','sup']"
   ]
  },
  {
   "cell_type": "code",
   "execution_count": 7,
   "metadata": {},
   "outputs": [],
   "source": [
    "# Drop the specified columns\n",
    "data.drop(columns=columns_to_delete, inplace=True)"
   ]
  },
  {
   "cell_type": "code",
   "execution_count": 8,
   "metadata": {},
   "outputs": [
    {
     "data": {
      "text/plain": [
       "Index(['id', 'author', 'ee', 'journal', 'key', 'mdate', 'note-type', 'pages',\n",
       "       'publisher', 'publnr', 'publtype', 'title', 'url', 'year'],\n",
       "      dtype='object')"
      ]
     },
     "execution_count": 8,
     "metadata": {},
     "output_type": "execute_result"
    }
   ],
   "source": [
    "data.columns"
   ]
  },
  {
   "cell_type": "code",
   "execution_count": 9,
   "metadata": {},
   "outputs": [],
   "source": [
    "data.rename(columns={'ee': 'external_link'}, inplace=True)"
   ]
  },
  {
   "cell_type": "code",
   "execution_count": 10,
   "metadata": {},
   "outputs": [],
   "source": [
    "data.rename(columns={'author': 'authors'}, inplace=True)"
   ]
  },
  {
   "cell_type": "code",
   "execution_count": 11,
   "metadata": {},
   "outputs": [
    {
     "data": {
      "text/plain": [
       "Index(['id', 'authors', 'external_link', 'journal', 'key', 'mdate',\n",
       "       'note-type', 'pages', 'publisher', 'publnr', 'publtype', 'title', 'url',\n",
       "       'year'],\n",
       "      dtype='object')"
      ]
     },
     "execution_count": 11,
     "metadata": {},
     "output_type": "execute_result"
    }
   ],
   "source": [
    "data.columns"
   ]
  },
  {
   "cell_type": "code",
   "execution_count": 12,
   "metadata": {},
   "outputs": [],
   "source": [
    "# Split the authors into a list\n",
    "data['author_list'] = data['authors'].str.split('|')\n",
    "# Explode the list into multiple rows\n",
    "data_long = data.explode('author_list', ignore_index=True)\n",
    "# Rename the column for clarity\n",
    "data_long.rename(columns={'author_list': 'author'}, inplace=True)"
   ]
  },
  {
   "cell_type": "code",
   "execution_count": 13,
   "metadata": {},
   "outputs": [],
   "source": [
    "# Remove digits from the 'author' column using a regular expression\n",
    "data_long['author'] = data_long['author'].str.replace(r'\\d+', '', regex=True).str.strip()"
   ]
  },
  {
   "cell_type": "code",
   "execution_count": 14,
   "metadata": {},
   "outputs": [],
   "source": [
    "data_long.drop_duplicates(inplace=True) #Remove duplications"
   ]
  },
  {
   "cell_type": "code",
   "execution_count": 16,
   "metadata": {},
   "outputs": [
    {
     "name": "stdout",
     "output_type": "stream",
     "text": [
      "Number of rows: 12706232\n"
     ]
    }
   ],
   "source": [
    "row_count = data_long.shape[0]\n",
    "print(f\"Number of rows: {row_count}\")"
   ]
  },
  {
   "cell_type": "code",
   "execution_count": 28,
   "metadata": {},
   "outputs": [
    {
     "data": {
      "text/html": [
       "<div>\n",
       "<style scoped>\n",
       "    .dataframe tbody tr th:only-of-type {\n",
       "        vertical-align: middle;\n",
       "    }\n",
       "\n",
       "    .dataframe tbody tr th {\n",
       "        vertical-align: top;\n",
       "    }\n",
       "\n",
       "    .dataframe thead th {\n",
       "        text-align: right;\n",
       "    }\n",
       "</style>\n",
       "<table border=\"1\" class=\"dataframe\">\n",
       "  <thead>\n",
       "    <tr style=\"text-align: right;\">\n",
       "      <th></th>\n",
       "      <th>id</th>\n",
       "      <th>authors</th>\n",
       "      <th>external_link</th>\n",
       "      <th>journal</th>\n",
       "      <th>key</th>\n",
       "      <th>mdate</th>\n",
       "      <th>title</th>\n",
       "      <th>url</th>\n",
       "      <th>year</th>\n",
       "      <th>author</th>\n",
       "    </tr>\n",
       "  </thead>\n",
       "  <tbody>\n",
       "    <tr>\n",
       "      <th>0</th>\n",
       "      <td>69899</td>\n",
       "      <td>Kai Schlabitz</td>\n",
       "      <td>https://doi.org/10.1007/s00502-019-0687-y</td>\n",
       "      <td>Elektrotech. Informationstechnik</td>\n",
       "      <td>journals/ei/Schlabitz19</td>\n",
       "      <td>2020-06-04</td>\n",
       "      <td>Auswirkung der Digitalisierung auf die Systeml...</td>\n",
       "      <td>db/journals/ei/ei136.html#Schlabitz19</td>\n",
       "      <td>2019</td>\n",
       "      <td>Kai Schlabitz</td>\n",
       "    </tr>\n",
       "    <tr>\n",
       "      <th>1</th>\n",
       "      <td>69900</td>\n",
       "      <td>Richard Überbacher|Stefan Cecil</td>\n",
       "      <td>https://doi.org/10.1007/s00502-020-00791-z</td>\n",
       "      <td>Elektrotech. Informationstechnik</td>\n",
       "      <td>journals/ei/UberbacherC20</td>\n",
       "      <td>2020-08-06</td>\n",
       "      <td>EMF-Personenschutz: Neue Aspekte in der numeri...</td>\n",
       "      <td>db/journals/ei/ei137.html#UberbacherC20</td>\n",
       "      <td>2020</td>\n",
       "      <td>Richard Überbacher</td>\n",
       "    </tr>\n",
       "    <tr>\n",
       "      <th>2</th>\n",
       "      <td>69900</td>\n",
       "      <td>Richard Überbacher|Stefan Cecil</td>\n",
       "      <td>https://doi.org/10.1007/s00502-020-00791-z</td>\n",
       "      <td>Elektrotech. Informationstechnik</td>\n",
       "      <td>journals/ei/UberbacherC20</td>\n",
       "      <td>2020-08-06</td>\n",
       "      <td>EMF-Personenschutz: Neue Aspekte in der numeri...</td>\n",
       "      <td>db/journals/ei/ei137.html#UberbacherC20</td>\n",
       "      <td>2020</td>\n",
       "      <td>Stefan Cecil</td>\n",
       "    </tr>\n",
       "    <tr>\n",
       "      <th>3</th>\n",
       "      <td>69901</td>\n",
       "      <td>Herbert Mang</td>\n",
       "      <td>https://doi.org/10.1007/s00502-022-01049-6</td>\n",
       "      <td>Elektrotech. Informationstechnik</td>\n",
       "      <td>journals/ei/Mang22</td>\n",
       "      <td>2022-10-10</td>\n",
       "      <td>Zur Genesis der Forschungsstelle für Integrier...</td>\n",
       "      <td>db/journals/ei/ei139.html#Mang22</td>\n",
       "      <td>2022</td>\n",
       "      <td>Herbert Mang</td>\n",
       "    </tr>\n",
       "    <tr>\n",
       "      <th>4</th>\n",
       "      <td>69902</td>\n",
       "      <td>Christian Diendorfer|Gerwin H. S. Drexler-Schm...</td>\n",
       "      <td>https://doi.org/10.1007/s00502-021-00953-7</td>\n",
       "      <td>Elektrotech. Informationstechnik</td>\n",
       "      <td>journals/ei/KnottnerGDD21</td>\n",
       "      <td>2022-01-03</td>\n",
       "      <td>100 % erneuerbare Energie für Österreichs Indu...</td>\n",
       "      <td>db/journals/ei/ei138.html#KnottnerGDD21</td>\n",
       "      <td>2021</td>\n",
       "      <td>Christian Diendorfer</td>\n",
       "    </tr>\n",
       "    <tr>\n",
       "      <th>5</th>\n",
       "      <td>69902</td>\n",
       "      <td>Christian Diendorfer|Gerwin H. S. Drexler-Schm...</td>\n",
       "      <td>https://doi.org/10.1007/s00502-021-00953-7</td>\n",
       "      <td>Elektrotech. Informationstechnik</td>\n",
       "      <td>journals/ei/KnottnerGDD21</td>\n",
       "      <td>2022-01-03</td>\n",
       "      <td>100 % erneuerbare Energie für Österreichs Indu...</td>\n",
       "      <td>db/journals/ei/ei138.html#KnottnerGDD21</td>\n",
       "      <td>2021</td>\n",
       "      <td>Gerwin H. S. Drexler-Schmid</td>\n",
       "    </tr>\n",
       "    <tr>\n",
       "      <th>6</th>\n",
       "      <td>69902</td>\n",
       "      <td>Christian Diendorfer|Gerwin H. S. Drexler-Schm...</td>\n",
       "      <td>https://doi.org/10.1007/s00502-021-00953-7</td>\n",
       "      <td>Elektrotech. Informationstechnik</td>\n",
       "      <td>journals/ei/KnottnerGDD21</td>\n",
       "      <td>2022-01-03</td>\n",
       "      <td>100 % erneuerbare Energie für Österreichs Indu...</td>\n",
       "      <td>db/journals/ei/ei138.html#KnottnerGDD21</td>\n",
       "      <td>2021</td>\n",
       "      <td>Roman Geyer</td>\n",
       "    </tr>\n",
       "    <tr>\n",
       "      <th>7</th>\n",
       "      <td>69902</td>\n",
       "      <td>Christian Diendorfer|Gerwin H. S. Drexler-Schm...</td>\n",
       "      <td>https://doi.org/10.1007/s00502-021-00953-7</td>\n",
       "      <td>Elektrotech. Informationstechnik</td>\n",
       "      <td>journals/ei/KnottnerGDD21</td>\n",
       "      <td>2022-01-03</td>\n",
       "      <td>100 % erneuerbare Energie für Österreichs Indu...</td>\n",
       "      <td>db/journals/ei/ei138.html#KnottnerGDD21</td>\n",
       "      <td>2021</td>\n",
       "      <td>Sophie Knöttner</td>\n",
       "    </tr>\n",
       "    <tr>\n",
       "      <th>8</th>\n",
       "      <td>69903</td>\n",
       "      <td>Christoph Reichl|Peter Wimberger</td>\n",
       "      <td>https://doi.org/10.1007/s00502-021-00885-2</td>\n",
       "      <td>Elektrotech. Informationstechnik</td>\n",
       "      <td>journals/ei/WimbergerR21</td>\n",
       "      <td>2022-10-02</td>\n",
       "      <td>Application of multilateration for microphone ...</td>\n",
       "      <td>db/journals/ei/ei138.html#WimbergerR21</td>\n",
       "      <td>2021</td>\n",
       "      <td>Christoph Reichl</td>\n",
       "    </tr>\n",
       "    <tr>\n",
       "      <th>9</th>\n",
       "      <td>69903</td>\n",
       "      <td>Christoph Reichl|Peter Wimberger</td>\n",
       "      <td>https://doi.org/10.1007/s00502-021-00885-2</td>\n",
       "      <td>Elektrotech. Informationstechnik</td>\n",
       "      <td>journals/ei/WimbergerR21</td>\n",
       "      <td>2022-10-02</td>\n",
       "      <td>Application of multilateration for microphone ...</td>\n",
       "      <td>db/journals/ei/ei138.html#WimbergerR21</td>\n",
       "      <td>2021</td>\n",
       "      <td>Peter Wimberger</td>\n",
       "    </tr>\n",
       "  </tbody>\n",
       "</table>\n",
       "</div>"
      ],
      "text/plain": [
       "      id                                            authors  \\\n",
       "0  69899                                      Kai Schlabitz   \n",
       "1  69900                    Richard Überbacher|Stefan Cecil   \n",
       "2  69900                    Richard Überbacher|Stefan Cecil   \n",
       "3  69901                                       Herbert Mang   \n",
       "4  69902  Christian Diendorfer|Gerwin H. S. Drexler-Schm...   \n",
       "5  69902  Christian Diendorfer|Gerwin H. S. Drexler-Schm...   \n",
       "6  69902  Christian Diendorfer|Gerwin H. S. Drexler-Schm...   \n",
       "7  69902  Christian Diendorfer|Gerwin H. S. Drexler-Schm...   \n",
       "8  69903                   Christoph Reichl|Peter Wimberger   \n",
       "9  69903                   Christoph Reichl|Peter Wimberger   \n",
       "\n",
       "                                external_link  \\\n",
       "0   https://doi.org/10.1007/s00502-019-0687-y   \n",
       "1  https://doi.org/10.1007/s00502-020-00791-z   \n",
       "2  https://doi.org/10.1007/s00502-020-00791-z   \n",
       "3  https://doi.org/10.1007/s00502-022-01049-6   \n",
       "4  https://doi.org/10.1007/s00502-021-00953-7   \n",
       "5  https://doi.org/10.1007/s00502-021-00953-7   \n",
       "6  https://doi.org/10.1007/s00502-021-00953-7   \n",
       "7  https://doi.org/10.1007/s00502-021-00953-7   \n",
       "8  https://doi.org/10.1007/s00502-021-00885-2   \n",
       "9  https://doi.org/10.1007/s00502-021-00885-2   \n",
       "\n",
       "                            journal                        key       mdate  \\\n",
       "0  Elektrotech. Informationstechnik    journals/ei/Schlabitz19  2020-06-04   \n",
       "1  Elektrotech. Informationstechnik  journals/ei/UberbacherC20  2020-08-06   \n",
       "2  Elektrotech. Informationstechnik  journals/ei/UberbacherC20  2020-08-06   \n",
       "3  Elektrotech. Informationstechnik         journals/ei/Mang22  2022-10-10   \n",
       "4  Elektrotech. Informationstechnik  journals/ei/KnottnerGDD21  2022-01-03   \n",
       "5  Elektrotech. Informationstechnik  journals/ei/KnottnerGDD21  2022-01-03   \n",
       "6  Elektrotech. Informationstechnik  journals/ei/KnottnerGDD21  2022-01-03   \n",
       "7  Elektrotech. Informationstechnik  journals/ei/KnottnerGDD21  2022-01-03   \n",
       "8  Elektrotech. Informationstechnik   journals/ei/WimbergerR21  2022-10-02   \n",
       "9  Elektrotech. Informationstechnik   journals/ei/WimbergerR21  2022-10-02   \n",
       "\n",
       "                                               title  \\\n",
       "0  Auswirkung der Digitalisierung auf die Systeml...   \n",
       "1  EMF-Personenschutz: Neue Aspekte in der numeri...   \n",
       "2  EMF-Personenschutz: Neue Aspekte in der numeri...   \n",
       "3  Zur Genesis der Forschungsstelle für Integrier...   \n",
       "4  100 % erneuerbare Energie für Österreichs Indu...   \n",
       "5  100 % erneuerbare Energie für Österreichs Indu...   \n",
       "6  100 % erneuerbare Energie für Österreichs Indu...   \n",
       "7  100 % erneuerbare Energie für Österreichs Indu...   \n",
       "8  Application of multilateration for microphone ...   \n",
       "9  Application of multilateration for microphone ...   \n",
       "\n",
       "                                       url  year                       author  \n",
       "0    db/journals/ei/ei136.html#Schlabitz19  2019                Kai Schlabitz  \n",
       "1  db/journals/ei/ei137.html#UberbacherC20  2020           Richard Überbacher  \n",
       "2  db/journals/ei/ei137.html#UberbacherC20  2020                 Stefan Cecil  \n",
       "3         db/journals/ei/ei139.html#Mang22  2022                 Herbert Mang  \n",
       "4  db/journals/ei/ei138.html#KnottnerGDD21  2021         Christian Diendorfer  \n",
       "5  db/journals/ei/ei138.html#KnottnerGDD21  2021  Gerwin H. S. Drexler-Schmid  \n",
       "6  db/journals/ei/ei138.html#KnottnerGDD21  2021                  Roman Geyer  \n",
       "7  db/journals/ei/ei138.html#KnottnerGDD21  2021              Sophie Knöttner  \n",
       "8   db/journals/ei/ei138.html#WimbergerR21  2021             Christoph Reichl  \n",
       "9   db/journals/ei/ei138.html#WimbergerR21  2021              Peter Wimberger  "
      ]
     },
     "execution_count": 28,
     "metadata": {},
     "output_type": "execute_result"
    }
   ],
   "source": [
    "# Display the first 10 rows\n",
    "data_long.head(10)"
   ]
  },
  {
   "cell_type": "code",
   "execution_count": 52,
   "metadata": {},
   "outputs": [],
   "source": [
    "#data_long.to_csv(\"cleaned_articles.csv\", index=False)"
   ]
  },
  {
   "cell_type": "code",
   "execution_count": 21,
   "metadata": {},
   "outputs": [
    {
     "data": {
      "text/plain": [
       "Index(['id', 'authors', 'external_link', 'journal', 'key', 'mdate',\n",
       "       'note-type', 'pages', 'publisher', 'publnr', 'publtype', 'title', 'url',\n",
       "       'year', 'author'],\n",
       "      dtype='object')"
      ]
     },
     "execution_count": 21,
     "metadata": {},
     "output_type": "execute_result"
    }
   ],
   "source": [
    "data_long.columns"
   ]
  },
  {
   "cell_type": "code",
   "execution_count": 26,
   "metadata": {},
   "outputs": [],
   "source": [
    "columns_to_delete_2 = ['note-type','pages','publisher','publnr','publtype']"
   ]
  },
  {
   "cell_type": "code",
   "execution_count": 27,
   "metadata": {},
   "outputs": [],
   "source": [
    "# #delete columns to fix bug with text and type inconsistency\n",
    "data_long.drop(columns=columns_to_delete_2, inplace=True)"
   ]
  },
  {
   "cell_type": "code",
   "execution_count": 29,
   "metadata": {},
   "outputs": [
    {
     "data": {
      "text/plain": [
       "Index(['id', 'authors', 'external_link', 'journal', 'key', 'mdate', 'title',\n",
       "       'url', 'year', 'author'],\n",
       "      dtype='object')"
      ]
     },
     "execution_count": 29,
     "metadata": {},
     "output_type": "execute_result"
    }
   ],
   "source": [
    "data_long.columns"
   ]
  },
  {
   "cell_type": "code",
   "execution_count": 30,
   "metadata": {},
   "outputs": [],
   "source": [
    "data_long.to_csv(\"articles_list.csv\", index=False)"
   ]
  },
  {
   "cell_type": "code",
   "execution_count": null,
   "metadata": {},
   "outputs": [],
   "source": []
  }
 ],
 "metadata": {
  "kernelspec": {
   "display_name": "Python 3",
   "language": "python",
   "name": "python3"
  },
  "language_info": {
   "codemirror_mode": {
    "name": "ipython",
    "version": 3
   },
   "file_extension": ".py",
   "mimetype": "text/x-python",
   "name": "python",
   "nbconvert_exporter": "python",
   "pygments_lexer": "ipython3",
   "version": "3.8.5"
  }
 },
 "nbformat": 4,
 "nbformat_minor": 4
}
