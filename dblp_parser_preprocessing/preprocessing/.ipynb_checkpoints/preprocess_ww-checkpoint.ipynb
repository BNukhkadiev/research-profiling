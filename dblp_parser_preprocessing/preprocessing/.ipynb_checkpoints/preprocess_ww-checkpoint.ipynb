{
 "cells": [
  {
   "cell_type": "code",
   "execution_count": 70,
   "metadata": {},
   "outputs": [],
   "source": [
    "import pandas as pd"
   ]
  },
  {
   "cell_type": "code",
   "execution_count": 3,
   "metadata": {},
   "outputs": [
    {
     "name": "stderr",
     "output_type": "stream",
     "text": [
      "<ipython-input-3-5a49fc524576>:2: DtypeWarning: Columns (2,3,5,6,15) have mixed types. Specify dtype option on import or set low_memory=False.\n",
      "  data = pd.read_csv(\"/Users/najib/Desktop/Research-Profiling/research-profiling/dblp_dataset/o_file_www.csv\", sep=';')\n"
     ]
    }
   ],
   "source": [
    "# Load the CSV file\n",
    "#data = pd.read_csv(\"data/o_file_www.csv\", sep=';')"
   ]
  },
  {
   "cell_type": "code",
   "execution_count": 155,
   "metadata": {},
   "outputs": [],
   "source": [
    "dtype_dict = {   \n",
    "'id': 'int64',\n",
    "'author':'string',            \n",
    "'author-bibtex':'string', \n",
    "'cite':'string',  \n",
    "'crossref':'string',  \n",
    "'editor':'string', \n",
    "'ee':'string',\n",
    "'key':'string',\n",
    "'mdate':'string',\n",
    "'note':'string',\n",
    "'note-label':'string',\n",
    "'note-type':'string',\n",
    "'publtype':'string',\n",
    "'title':'string',\n",
    "'url':'string',\n",
    "'url-type':'string',\n",
    "'year':'float64'\n",
    "    }"
   ]
  },
  {
   "cell_type": "code",
   "execution_count": 156,
   "metadata": {},
   "outputs": [],
   "source": [
    "# Read the CSV file\n",
    "data = pd.read_csv(\n",
    "    \"data/o_file_www.csv\",\n",
    "    sep=';',          # Specify the delimiter\n",
    "    dtype=dtype_dict\n",
    ")"
   ]
  },
  {
   "cell_type": "code",
   "execution_count": 18,
   "metadata": {},
   "outputs": [],
   "source": [
    "#get data types from a sample to import the whole dataset properly\n",
    "#data_sample = pd.read_csv(\"data/o_file_www.csv\", sep=';', nrows=100)\n",
    "#print(data_sample.dtypes)"
   ]
  },
  {
   "cell_type": "code",
   "execution_count": 157,
   "metadata": {},
   "outputs": [],
   "source": [
    "# List of columns to delete\n",
    "columns_to_delete = ['author-bibtex','editor','cite','crossref','ee','key','mdate','note-label','publtype','title',\n",
    "'title','url','url-type','year']"
   ]
  },
  {
   "cell_type": "code",
   "execution_count": 158,
   "metadata": {},
   "outputs": [],
   "source": [
    "# Drop the specified columns\n",
    "data.drop(columns=columns_to_delete, inplace=True)"
   ]
  },
  {
   "cell_type": "code",
   "execution_count": 159,
   "metadata": {},
   "outputs": [],
   "source": [
    "# Drop rows where 'author' is null\n",
    "data = data.dropna(subset=['author'])"
   ]
  },
  {
   "cell_type": "code",
   "execution_count": 160,
   "metadata": {},
   "outputs": [],
   "source": [
    "# Drop rows where 'author' is null\n",
    "data = data.dropna(subset=['note'])"
   ]
  },
  {
   "cell_type": "code",
   "execution_count": 161,
   "metadata": {},
   "outputs": [],
   "source": [
    "data.rename(columns={'author': 'authors'}, inplace=True)"
   ]
  },
  {
   "cell_type": "code",
   "execution_count": 167,
   "metadata": {},
   "outputs": [
    {
     "data": {
      "text/html": [
       "<div>\n",
       "<style scoped>\n",
       "    .dataframe tbody tr th:only-of-type {\n",
       "        vertical-align: middle;\n",
       "    }\n",
       "\n",
       "    .dataframe tbody tr th {\n",
       "        vertical-align: top;\n",
       "    }\n",
       "\n",
       "    .dataframe thead th {\n",
       "        text-align: right;\n",
       "    }\n",
       "</style>\n",
       "<table border=\"1\" class=\"dataframe\">\n",
       "  <thead>\n",
       "    <tr style=\"text-align: right;\">\n",
       "      <th></th>\n",
       "      <th>id</th>\n",
       "      <th>authors</th>\n",
       "      <th>note</th>\n",
       "      <th>note-type</th>\n",
       "    </tr>\n",
       "  </thead>\n",
       "  <tbody>\n",
       "    <tr>\n",
       "      <th>15</th>\n",
       "      <td>3820184</td>\n",
       "      <td>William Seymour</td>\n",
       "      <td>King's College London, UK</td>\n",
       "      <td>affiliation</td>\n",
       "    </tr>\n",
       "    <tr>\n",
       "      <th>19</th>\n",
       "      <td>3820188</td>\n",
       "      <td>Oliver Salazar Celis</td>\n",
       "      <td>ING Belgium, Brussels, Belgium</td>\n",
       "      <td>affiliation</td>\n",
       "    </tr>\n",
       "    <tr>\n",
       "      <th>23</th>\n",
       "      <td>3820192</td>\n",
       "      <td>João Ferreira 0004</td>\n",
       "      <td>University of Coimbra, Centre for Informatics ...</td>\n",
       "      <td>affiliation</td>\n",
       "    </tr>\n",
       "    <tr>\n",
       "      <th>46</th>\n",
       "      <td>3820215</td>\n",
       "      <td>Irina Botan</td>\n",
       "      <td>ETH Zurich, Switzerland</td>\n",
       "      <td>affiliation</td>\n",
       "    </tr>\n",
       "    <tr>\n",
       "      <th>51</th>\n",
       "      <td>3820220</td>\n",
       "      <td>Qing Lu 0008</td>\n",
       "      <td>Huaiyin Institute of Technology, Faculty of Au...</td>\n",
       "      <td>affiliation</td>\n",
       "    </tr>\n",
       "  </tbody>\n",
       "</table>\n",
       "</div>"
      ],
      "text/plain": [
       "         id               authors  \\\n",
       "15  3820184       William Seymour   \n",
       "19  3820188  Oliver Salazar Celis   \n",
       "23  3820192    João Ferreira 0004   \n",
       "46  3820215           Irina Botan   \n",
       "51  3820220          Qing Lu 0008   \n",
       "\n",
       "                                                 note    note-type  \n",
       "15                          King's College London, UK  affiliation  \n",
       "19                     ING Belgium, Brussels, Belgium  affiliation  \n",
       "23  University of Coimbra, Centre for Informatics ...  affiliation  \n",
       "46                            ETH Zurich, Switzerland  affiliation  \n",
       "51  Huaiyin Institute of Technology, Faculty of Au...  affiliation  "
      ]
     },
     "execution_count": 167,
     "metadata": {},
     "output_type": "execute_result"
    }
   ],
   "source": [
    "data.head()"
   ]
  },
  {
   "cell_type": "code",
   "execution_count": 168,
   "metadata": {},
   "outputs": [],
   "source": [
    "# Split the 'authors', 'note', and 'note-type' columns into lists\n",
    "data['authors'] = data['authors'].str.split('|')\n",
    "data['note-type'] = data['note-type'].str.split('|')"
   ]
  },
  {
   "cell_type": "code",
   "execution_count": 169,
   "metadata": {},
   "outputs": [],
   "source": [
    "# Replace missing values (if any) with empty lists\n",
    "data['authors'] = data['authors'].apply(lambda x: x if isinstance(x, list) else [])\n",
    "data['note-type'] = data['note-type'].apply(lambda x: x if isinstance(x, list) else [])\n"
   ]
  },
  {
   "cell_type": "code",
   "execution_count": 170,
   "metadata": {},
   "outputs": [],
   "source": [
    "# Ensure both 'authors' and 'note-type' columns have matching lengths\n",
    "max_lengths = data[['authors', 'note-type']].applymap(len).max(axis=1)\n",
    "data['authors'] = data['authors'].apply(lambda x, max_len=max_lengths.max(): x + [None] * (max_len - len(x)))\n",
    "data['note-type'] = data['note-type'].apply(lambda x, max_len=max_lengths.max(): x + [None] * (max_len - len(x)))\n"
   ]
  },
  {
   "cell_type": "code",
   "execution_count": 171,
   "metadata": {},
   "outputs": [],
   "source": [
    "# Explode both columns to create one row for each author-note pair\n",
    "data_exploded = data.explode(['authors', 'note-type'], ignore_index=True)"
   ]
  },
  {
   "cell_type": "code",
   "execution_count": 172,
   "metadata": {},
   "outputs": [
    {
     "data": {
      "text/html": [
       "<div>\n",
       "<style scoped>\n",
       "    .dataframe tbody tr th:only-of-type {\n",
       "        vertical-align: middle;\n",
       "    }\n",
       "\n",
       "    .dataframe tbody tr th {\n",
       "        vertical-align: top;\n",
       "    }\n",
       "\n",
       "    .dataframe thead th {\n",
       "        text-align: right;\n",
       "    }\n",
       "</style>\n",
       "<table border=\"1\" class=\"dataframe\">\n",
       "  <thead>\n",
       "    <tr style=\"text-align: right;\">\n",
       "      <th></th>\n",
       "      <th>id</th>\n",
       "      <th>authors</th>\n",
       "      <th>note</th>\n",
       "      <th>note-type</th>\n",
       "    </tr>\n",
       "  </thead>\n",
       "  <tbody>\n",
       "    <tr>\n",
       "      <th>0</th>\n",
       "      <td>3820184</td>\n",
       "      <td>William Seymour</td>\n",
       "      <td>King's College London, UK</td>\n",
       "      <td>affiliation</td>\n",
       "    </tr>\n",
       "    <tr>\n",
       "      <th>1</th>\n",
       "      <td>3820184</td>\n",
       "      <td>None</td>\n",
       "      <td>King's College London, UK</td>\n",
       "      <td>None</td>\n",
       "    </tr>\n",
       "    <tr>\n",
       "      <th>2</th>\n",
       "      <td>3820184</td>\n",
       "      <td>None</td>\n",
       "      <td>King's College London, UK</td>\n",
       "      <td>None</td>\n",
       "    </tr>\n",
       "    <tr>\n",
       "      <th>3</th>\n",
       "      <td>3820184</td>\n",
       "      <td>None</td>\n",
       "      <td>King's College London, UK</td>\n",
       "      <td>None</td>\n",
       "    </tr>\n",
       "    <tr>\n",
       "      <th>4</th>\n",
       "      <td>3820184</td>\n",
       "      <td>None</td>\n",
       "      <td>King's College London, UK</td>\n",
       "      <td>None</td>\n",
       "    </tr>\n",
       "  </tbody>\n",
       "</table>\n",
       "</div>"
      ],
      "text/plain": [
       "        id          authors                       note    note-type\n",
       "0  3820184  William Seymour  King's College London, UK  affiliation\n",
       "1  3820184             None  King's College London, UK         None\n",
       "2  3820184             None  King's College London, UK         None\n",
       "3  3820184             None  King's College London, UK         None\n",
       "4  3820184             None  King's College London, UK         None"
      ]
     },
     "execution_count": 172,
     "metadata": {},
     "output_type": "execute_result"
    }
   ],
   "source": [
    "data_exploded.head()"
   ]
  },
  {
   "cell_type": "code",
   "execution_count": 173,
   "metadata": {},
   "outputs": [],
   "source": [
    "# Drop rows where 'author' is null\n",
    "data_exploded = data_exploded.dropna(subset=['authors'])"
   ]
  },
  {
   "cell_type": "code",
   "execution_count": 174,
   "metadata": {},
   "outputs": [
    {
     "data": {
      "text/html": [
       "<div>\n",
       "<style scoped>\n",
       "    .dataframe tbody tr th:only-of-type {\n",
       "        vertical-align: middle;\n",
       "    }\n",
       "\n",
       "    .dataframe tbody tr th {\n",
       "        vertical-align: top;\n",
       "    }\n",
       "\n",
       "    .dataframe thead th {\n",
       "        text-align: right;\n",
       "    }\n",
       "</style>\n",
       "<table border=\"1\" class=\"dataframe\">\n",
       "  <thead>\n",
       "    <tr style=\"text-align: right;\">\n",
       "      <th></th>\n",
       "      <th>id</th>\n",
       "      <th>authors</th>\n",
       "      <th>note</th>\n",
       "      <th>note-type</th>\n",
       "    </tr>\n",
       "  </thead>\n",
       "  <tbody>\n",
       "    <tr>\n",
       "      <th>0</th>\n",
       "      <td>3820184</td>\n",
       "      <td>William Seymour</td>\n",
       "      <td>King's College London, UK</td>\n",
       "      <td>affiliation</td>\n",
       "    </tr>\n",
       "    <tr>\n",
       "      <th>12</th>\n",
       "      <td>3820188</td>\n",
       "      <td>Oliver Salazar Celis</td>\n",
       "      <td>ING Belgium, Brussels, Belgium</td>\n",
       "      <td>affiliation</td>\n",
       "    </tr>\n",
       "    <tr>\n",
       "      <th>24</th>\n",
       "      <td>3820192</td>\n",
       "      <td>João Ferreira 0004</td>\n",
       "      <td>University of Coimbra, Centre for Informatics ...</td>\n",
       "      <td>affiliation</td>\n",
       "    </tr>\n",
       "    <tr>\n",
       "      <th>36</th>\n",
       "      <td>3820215</td>\n",
       "      <td>Irina Botan</td>\n",
       "      <td>ETH Zurich, Switzerland</td>\n",
       "      <td>affiliation</td>\n",
       "    </tr>\n",
       "    <tr>\n",
       "      <th>48</th>\n",
       "      <td>3820220</td>\n",
       "      <td>Qing Lu 0008</td>\n",
       "      <td>Huaiyin Institute of Technology, Faculty of Au...</td>\n",
       "      <td>affiliation</td>\n",
       "    </tr>\n",
       "  </tbody>\n",
       "</table>\n",
       "</div>"
      ],
      "text/plain": [
       "         id               authors  \\\n",
       "0   3820184       William Seymour   \n",
       "12  3820188  Oliver Salazar Celis   \n",
       "24  3820192    João Ferreira 0004   \n",
       "36  3820215           Irina Botan   \n",
       "48  3820220          Qing Lu 0008   \n",
       "\n",
       "                                                 note    note-type  \n",
       "0                           King's College London, UK  affiliation  \n",
       "12                     ING Belgium, Brussels, Belgium  affiliation  \n",
       "24  University of Coimbra, Centre for Informatics ...  affiliation  \n",
       "36                            ETH Zurich, Switzerland  affiliation  \n",
       "48  Huaiyin Institute of Technology, Faculty of Au...  affiliation  "
      ]
     },
     "execution_count": 174,
     "metadata": {},
     "output_type": "execute_result"
    }
   ],
   "source": [
    "data_exploded.head()"
   ]
  },
  {
   "cell_type": "code",
   "execution_count": 175,
   "metadata": {},
   "outputs": [],
   "source": [
    "data_exploded = data_exploded.rename(columns={'authors': 'author'})"
   ]
  },
  {
   "cell_type": "code",
   "execution_count": 176,
   "metadata": {},
   "outputs": [],
   "source": [
    "# Remove digits from the 'author' column using a regular expression\n",
    "data_exploded['author'] = data_exploded['author'].str.replace(r'\\d+', '', regex=True).str.strip()"
   ]
  },
  {
   "cell_type": "code",
   "execution_count": 177,
   "metadata": {},
   "outputs": [
    {
     "data": {
      "text/html": [
       "<div>\n",
       "<style scoped>\n",
       "    .dataframe tbody tr th:only-of-type {\n",
       "        vertical-align: middle;\n",
       "    }\n",
       "\n",
       "    .dataframe tbody tr th {\n",
       "        vertical-align: top;\n",
       "    }\n",
       "\n",
       "    .dataframe thead th {\n",
       "        text-align: right;\n",
       "    }\n",
       "</style>\n",
       "<table border=\"1\" class=\"dataframe\">\n",
       "  <thead>\n",
       "    <tr style=\"text-align: right;\">\n",
       "      <th></th>\n",
       "      <th>id</th>\n",
       "      <th>author</th>\n",
       "      <th>note</th>\n",
       "      <th>note-type</th>\n",
       "    </tr>\n",
       "  </thead>\n",
       "  <tbody>\n",
       "    <tr>\n",
       "      <th>0</th>\n",
       "      <td>3820184</td>\n",
       "      <td>William Seymour</td>\n",
       "      <td>King's College London, UK</td>\n",
       "      <td>affiliation</td>\n",
       "    </tr>\n",
       "    <tr>\n",
       "      <th>12</th>\n",
       "      <td>3820188</td>\n",
       "      <td>Oliver Salazar Celis</td>\n",
       "      <td>ING Belgium, Brussels, Belgium</td>\n",
       "      <td>affiliation</td>\n",
       "    </tr>\n",
       "    <tr>\n",
       "      <th>24</th>\n",
       "      <td>3820192</td>\n",
       "      <td>João Ferreira</td>\n",
       "      <td>University of Coimbra, Centre for Informatics ...</td>\n",
       "      <td>affiliation</td>\n",
       "    </tr>\n",
       "    <tr>\n",
       "      <th>36</th>\n",
       "      <td>3820215</td>\n",
       "      <td>Irina Botan</td>\n",
       "      <td>ETH Zurich, Switzerland</td>\n",
       "      <td>affiliation</td>\n",
       "    </tr>\n",
       "    <tr>\n",
       "      <th>48</th>\n",
       "      <td>3820220</td>\n",
       "      <td>Qing Lu</td>\n",
       "      <td>Huaiyin Institute of Technology, Faculty of Au...</td>\n",
       "      <td>affiliation</td>\n",
       "    </tr>\n",
       "  </tbody>\n",
       "</table>\n",
       "</div>"
      ],
      "text/plain": [
       "         id                author  \\\n",
       "0   3820184       William Seymour   \n",
       "12  3820188  Oliver Salazar Celis   \n",
       "24  3820192         João Ferreira   \n",
       "36  3820215           Irina Botan   \n",
       "48  3820220               Qing Lu   \n",
       "\n",
       "                                                 note    note-type  \n",
       "0                           King's College London, UK  affiliation  \n",
       "12                     ING Belgium, Brussels, Belgium  affiliation  \n",
       "24  University of Coimbra, Centre for Informatics ...  affiliation  \n",
       "36                            ETH Zurich, Switzerland  affiliation  \n",
       "48  Huaiyin Institute of Technology, Faculty of Au...  affiliation  "
      ]
     },
     "execution_count": 177,
     "metadata": {},
     "output_type": "execute_result"
    }
   ],
   "source": [
    "data_exploded.head()"
   ]
  },
  {
   "cell_type": "code",
   "execution_count": 179,
   "metadata": {},
   "outputs": [],
   "source": [
    "data_exploded.drop_duplicates(inplace=True) #Remove duplications"
   ]
  },
  {
   "cell_type": "code",
   "execution_count": 182,
   "metadata": {},
   "outputs": [
    {
     "name": "stdout",
     "output_type": "stream",
     "text": [
      "Number of rows: 191815\n"
     ]
    }
   ],
   "source": [
    "# Get the number of rows\n",
    "row_count = data_exploded.shape[0]\n",
    "print(f\"Number of rows: {row_count}\")"
   ]
  },
  {
   "cell_type": "code",
   "execution_count": 184,
   "metadata": {},
   "outputs": [],
   "source": [
    "new_df = data_exploded.drop(columns=['note-type'])"
   ]
  },
  {
   "cell_type": "code",
   "execution_count": 187,
   "metadata": {},
   "outputs": [],
   "source": [
    "new_df = new_df.rename(columns={'note': 'affiliation'})"
   ]
  },
  {
   "cell_type": "code",
   "execution_count": 188,
   "metadata": {},
   "outputs": [
    {
     "data": {
      "text/html": [
       "<div>\n",
       "<style scoped>\n",
       "    .dataframe tbody tr th:only-of-type {\n",
       "        vertical-align: middle;\n",
       "    }\n",
       "\n",
       "    .dataframe tbody tr th {\n",
       "        vertical-align: top;\n",
       "    }\n",
       "\n",
       "    .dataframe thead th {\n",
       "        text-align: right;\n",
       "    }\n",
       "</style>\n",
       "<table border=\"1\" class=\"dataframe\">\n",
       "  <thead>\n",
       "    <tr style=\"text-align: right;\">\n",
       "      <th></th>\n",
       "      <th>id</th>\n",
       "      <th>author</th>\n",
       "      <th>affiliation</th>\n",
       "    </tr>\n",
       "  </thead>\n",
       "  <tbody>\n",
       "    <tr>\n",
       "      <th>0</th>\n",
       "      <td>3820184</td>\n",
       "      <td>William Seymour</td>\n",
       "      <td>King's College London, UK</td>\n",
       "    </tr>\n",
       "    <tr>\n",
       "      <th>12</th>\n",
       "      <td>3820188</td>\n",
       "      <td>Oliver Salazar Celis</td>\n",
       "      <td>ING Belgium, Brussels, Belgium</td>\n",
       "    </tr>\n",
       "    <tr>\n",
       "      <th>24</th>\n",
       "      <td>3820192</td>\n",
       "      <td>João Ferreira</td>\n",
       "      <td>University of Coimbra, Centre for Informatics ...</td>\n",
       "    </tr>\n",
       "    <tr>\n",
       "      <th>36</th>\n",
       "      <td>3820215</td>\n",
       "      <td>Irina Botan</td>\n",
       "      <td>ETH Zurich, Switzerland</td>\n",
       "    </tr>\n",
       "    <tr>\n",
       "      <th>48</th>\n",
       "      <td>3820220</td>\n",
       "      <td>Qing Lu</td>\n",
       "      <td>Huaiyin Institute of Technology, Faculty of Au...</td>\n",
       "    </tr>\n",
       "  </tbody>\n",
       "</table>\n",
       "</div>"
      ],
      "text/plain": [
       "         id                author  \\\n",
       "0   3820184       William Seymour   \n",
       "12  3820188  Oliver Salazar Celis   \n",
       "24  3820192         João Ferreira   \n",
       "36  3820215           Irina Botan   \n",
       "48  3820220               Qing Lu   \n",
       "\n",
       "                                          affiliation  \n",
       "0                           King's College London, UK  \n",
       "12                     ING Belgium, Brussels, Belgium  \n",
       "24  University of Coimbra, Centre for Informatics ...  \n",
       "36                            ETH Zurich, Switzerland  \n",
       "48  Huaiyin Institute of Technology, Faculty of Au...  "
      ]
     },
     "execution_count": 188,
     "metadata": {},
     "output_type": "execute_result"
    }
   ],
   "source": [
    "new_df.head()"
   ]
  },
  {
   "cell_type": "code",
   "execution_count": 191,
   "metadata": {},
   "outputs": [],
   "source": [
    "new_df.to_csv(\"ww_author_affiliation_list.csv\", index=False)"
   ]
  },
  {
   "cell_type": "code",
   "execution_count": 85,
   "metadata": {},
   "outputs": [],
   "source": []
  }
 ],
 "metadata": {
  "kernelspec": {
   "display_name": "Python 3",
   "language": "python",
   "name": "python3"
  },
  "language_info": {
   "codemirror_mode": {
    "name": "ipython",
    "version": 3
   },
   "file_extension": ".py",
   "mimetype": "text/x-python",
   "name": "python",
   "nbconvert_exporter": "python",
   "pygments_lexer": "ipython3",
   "version": "3.8.5"
  }
 },
 "nbformat": 4,
 "nbformat_minor": 4
}
