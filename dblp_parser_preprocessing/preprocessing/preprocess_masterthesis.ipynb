{
 "cells": [
  {
   "cell_type": "code",
   "execution_count": 1,
   "metadata": {},
   "outputs": [],
   "source": [
    "import pandas as pd"
   ]
  },
  {
   "cell_type": "code",
   "execution_count": 4,
   "metadata": {},
   "outputs": [],
   "source": [
    "#get data types from a sample to import the whole dataset properly\n",
    "#data_sample = pd.read_csv(\"data/o_file_mastersthesis.csv\", sep=';', nrows=100)\n",
    "#print(data_sample.dtypes)"
   ]
  },
  {
   "cell_type": "code",
   "execution_count": 6,
   "metadata": {},
   "outputs": [],
   "source": [
    "# Define the data types for each column\n",
    "dtype_dict = {\n",
    "    'id': 'int64',\n",
    "    'author': 'string',\n",
    "    'ee': 'string',\n",
    "    'ee-type': 'string',\n",
    "    'isbn': 'string',  # ISBNs can have non-numeric characters\n",
    "    'key': 'string',\n",
    "    'mdate': 'string',\n",
    "    'note': 'string',\n",
    "    'note-type': 'string',\n",
    "    'pages': 'string',\n",
    "    'publisher': 'string',\n",
    "    'school': 'string',\n",
    "    'title': 'string',\n",
    "    'url': 'string',\n",
    "    'volume': 'string',\n",
    "    'year': 'string'\n",
    "}"
   ]
  },
  {
   "cell_type": "code",
   "execution_count": 7,
   "metadata": {},
   "outputs": [],
   "source": [
    "# Read the CSV file\n",
    "data = pd.read_csv(\n",
    "    \"data/o_file_mastersthesis.csv\",\n",
    "    sep=';',          # Specify the delimiter\n",
    "    dtype=dtype_dict\n",
    ")\n",
    "\n"
   ]
  },
  {
   "cell_type": "code",
   "execution_count": 8,
   "metadata": {},
   "outputs": [],
   "source": [
    "# List of columns to delete\n",
    "columns_to_delete = ['ee-type','isbn','month','note','note-type',\n",
    "'pages','publtype','series-href','sub','sup','volume']"
   ]
  },
  {
   "cell_type": "code",
   "execution_count": 11,
   "metadata": {},
   "outputs": [],
   "source": [
    "data.rename(columns={'ee': 'external_link'}, inplace=True)"
   ]
  },
  {
   "cell_type": "code",
   "execution_count": 12,
   "metadata": {},
   "outputs": [
    {
     "data": {
      "text/plain": [
       "Index(['id', 'author', 'external_link', 'ee-type', 'isbn', 'key', 'mdate',\n",
       "       'note', 'note-type', 'pages', 'publisher', 'school', 'title', 'year'],\n",
       "      dtype='object')"
      ]
     },
     "execution_count": 12,
     "metadata": {},
     "output_type": "execute_result"
    }
   ],
   "source": [
    "data.columns"
   ]
  },
  {
   "cell_type": "code",
   "execution_count": 14,
   "metadata": {},
   "outputs": [],
   "source": [
    "# Remove digits from the 'author' column using a regular expression\n",
    "data['author'] = data['author'].str.replace(r'\\d+', '', regex=True).str.strip()"
   ]
  },
  {
   "cell_type": "code",
   "execution_count": 16,
   "metadata": {},
   "outputs": [],
   "source": [
    "#data.head(10)"
   ]
  },
  {
   "cell_type": "code",
   "execution_count": 17,
   "metadata": {},
   "outputs": [],
   "source": [
    "data.to_csv(\"cleaned_masterthesis.csv\", index=False)"
   ]
  },
  {
   "cell_type": "code",
   "execution_count": 18,
   "metadata": {},
   "outputs": [],
   "source": [
    "data_school = data[['author', 'school']]"
   ]
  },
  {
   "cell_type": "code",
   "execution_count": 19,
   "metadata": {},
   "outputs": [],
   "source": [
    "# Remove duplicates\n",
    "data_school = data_school.drop_duplicates()"
   ]
  },
  {
   "cell_type": "code",
   "execution_count": 20,
   "metadata": {},
   "outputs": [],
   "source": [
    "data_school.to_csv(\"masterthesis_school_author_list.csv\", index=False)"
   ]
  }
 ],
 "metadata": {
  "kernelspec": {
   "display_name": "Python 3",
   "language": "python",
   "name": "python3"
  },
  "language_info": {
   "codemirror_mode": {
    "name": "ipython",
    "version": 3
   },
   "file_extension": ".py",
   "mimetype": "text/x-python",
   "name": "python",
   "nbconvert_exporter": "python",
   "pygments_lexer": "ipython3",
   "version": "3.8.5"
  }
 },
 "nbformat": 4,
 "nbformat_minor": 4
}
